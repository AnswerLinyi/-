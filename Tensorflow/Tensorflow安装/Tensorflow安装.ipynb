{
 "cells": [
  {
   "cell_type": "markdown",
   "metadata": {},
   "source": [
    "# 在 Windows 上安装 TensorFlow\n",
    "本指南将介绍如何在 Windows 上安装 TensorFlow。虽然这些说明可能也适用于其他 Windows 版本，但我们只在满足以下要求的计算机上验证过这些说明（而且我们只支持在此类计算机上按这些说明操作）：\n",
    "\n",
    "- 64 位、x86 台式机或笔记本电脑\n",
    "- Windows 7 或更高版本\n"
   ]
  },
  {
   "cell_type": "markdown",
   "metadata": {},
   "source": [
    "## 确定要安装哪种 TensorFlow\n",
    "您必须从以下 TensorFlow 类型中选择其一来进行安装：\n",
    "\n",
    "- 仅支持 CPU 的 TensorFlow。如果您的系统没有 NVIDIA® GPU，则必须安装此版本。请注意，此版本的 TensorFlow 通常更容易安装（用时通常在 5 或 10 分钟内），所以即使您拥有 NVIDIA GPU，我们也建议先安装此版本。预编译的二进制文件将使用 AVX 指令。\n",
    "\n",
    "- 支持 GPU 的 TensorFlow。TensorFlow 程序在 GPU 上的运行速度通常要比在 CPU 上快得多。因此，如果您的系统配有满足以下所示先决条件的 NVIDIA® GPU，并且您需要运行性能至关重要的应用，则最终应安装此版本。\n"
   ]
  },
  {
   "cell_type": "markdown",
   "metadata": {},
   "source": [
    "### 运行支持 GPU 的 TensorFlow 所需满足的要求\n",
    "如果您要使用本指南描述的其中一种方式安装支持 GPU 的 TensorFlow，就必须在系统上安装以下 NVIDIA 软件：\n",
    "\n",
    "- CUDA® 工具包 9.0。如需了解详情，请参阅 NVIDIA 的文档。请务必按照 NVIDIA 文档中的说明将相关的 CUDA 路径名附加到 %PATH% 环境变量上。\n",
    "与 CUDA 工具包 9.0 相关联的 NVIDIA 驱动程序。\n",
    "- cuDNN v7.0。如需了解详情，请参阅 NVIDIA 文档。请注意，cuDNN 通常安装在与其他 CUDA DLL 不同的位置。请务必将 cuDNN DLL 的安装目录添加到 %PATH% 环境变量上。\n",
    "- CUDA 计算能力为 3.0 或更高的 GPU 卡（用于从源代码编译），以及 CUDA 计算能力为 3.5 或更高的 GPU 卡（用于安装我们的二进制文件）。如需了解支持的 GPU 卡的列表，请参阅 NVIDIA 文档。\n",
    "- 如果您的某个软件包不同于上述版本，请改为指定的版本。特别是，cuDNN 版本必须完全匹配：如果无法找到 cuDNN64_7.dll，TensorFlow 就不会加载。要使用不同版本的 cuDNN，您必须从源代码构建。"
   ]
  },
  {
   "cell_type": "markdown",
   "metadata": {},
   "source": [
    "## 确定如何安装 TensorFlow\n",
    "您必须选择安装 TensorFlow 的方式。目前可支持如下几种方式：\n",
    "\n",
    "- “原生”pip\n",
    "- Anaconda\n",
    "原生 pip 会直接在您的系统上安装 TensorFlow，而不是通过虚拟环境。原生 pip 安装并未隔离在单独的容器中进行，因此可能会干扰系统中其他基于 Python 的安装。但是，如果您熟悉 pip 和您的 Python 环境，通常只需一条命令即可进行原生 pip 安装。此外，如果使用原生 pip 安装，用户可以从系统上的任何目录运行 TensorFlow 程序。\n",
    "\n",
    "在 Anaconda 中，您可以使用 conda 来创建一个虚拟环境。但是，在 Anaconda 内部，我们建议使用 pip install 命令来安装 TensorFlow，而不要使用 conda install 命令。\n",
    "\n",
    "注意：conda 软件包是由社区提供支持的，并没有任何官方支持。也就是说，TensorFlow 团队既不测试也不维护 conda 软件包。若使用该软件包，您需要自行承担相关风险。"
   ]
  },
  {
   "cell_type": "markdown",
   "metadata": {},
   "source": [
    "### 使用原生 pip 进行安装\n",
    "如果您的计算机上未安装以下某个 Python 版本，请立即安装：\n",
    "\n",
    "- 来自 python.org 的 Python 3.5.x 64 位。 https://www.python.org/downloads/release/python-352/\n",
    "- 来自 python.org 的 Python 3.6.x 64 位。 https://www.python.org/downloads/release/python-362/"
   ]
  },
  {
   "cell_type": "markdown",
   "metadata": {},
   "source": [
    "在 Windows 上，TensorFlow 支持 Python 3.5.x 和 3.6.x。请注意，Python 3 附带有 pip3 软件包管理器，您需使用此程序来安装 TensorFlow。\n",
    "\n",
    "要安装 TensorFlow，请启动终端。然后在该终端中发出正确的 pip3 install 命令。要安装仅支持 CPU 的 TensorFlow 版本，请输入以下命令："
   ]
  },
  {
   "cell_type": "raw",
   "metadata": {},
   "source": [
    "C:\\> pip3 install --upgrade tensorflow"
   ]
  },
  {
   "cell_type": "markdown",
   "metadata": {},
   "source": [
    "要安装 GPU 版本的 TensorFlow，请输入以下命令："
   ]
  },
  {
   "cell_type": "raw",
   "metadata": {},
   "source": [
    "C:\\> pip3 install --upgrade tensorflow-gpu"
   ]
  },
  {
   "cell_type": "markdown",
   "metadata": {},
   "source": [
    "### 使用 Anaconda 进行安装"
   ]
  },
  {
   "cell_type": "markdown",
   "metadata": {},
   "source": [
    "Anaconda 安装是由社区提供支持的，并没有任何官方支持。\n",
    "\n",
    "按照以下步骤在 Anaconda 环境中安装 TensorFlow："
   ]
  },
  {
   "cell_type": "markdown",
   "metadata": {},
   "source": [
    "1.按照 Anaconda 下载网站上的说明下载并安装 Anaconda。\n",
    "\n",
    "2.通过调用以下命令创建名为 tensorflow 的 conda 环境："
   ]
  },
  {
   "cell_type": "raw",
   "metadata": {},
   "source": [
    "C:> conda create -n tensorflow pip python=3.5 "
   ]
  },
  {
   "cell_type": "markdown",
   "metadata": {},
   "source": [
    "3.通过发出以下命令激活 conda 环境："
   ]
  },
  {
   "cell_type": "raw",
   "metadata": {},
   "source": [
    "C:> activate tensorflow\n",
    " (tensorflow)C:>  # Your prompt should change "
   ]
  },
  {
   "cell_type": "markdown",
   "metadata": {},
   "source": [
    "4.发出相应命令以在 conda 环境中安装 TensorFlow。要安装仅支持 CPU 的 TensorFlow 版本，请输入以下命令："
   ]
  },
  {
   "cell_type": "raw",
   "metadata": {},
   "source": [
    "(tensorflow)C:> pip install --ignore-installed --upgrade tensorflow "
   ]
  },
  {
   "cell_type": "markdown",
   "metadata": {},
   "source": [
    "要安装 GPU 版本的 TensorFlow，请输入以下命令（在同一行）："
   ]
  },
  {
   "cell_type": "raw",
   "metadata": {},
   "source": [
    "(tensorflow)C:> pip install --ignore-installed --upgrade tensorflow-gpu "
   ]
  },
  {
   "cell_type": "markdown",
   "metadata": {},
   "source": [
    "### 验证您的安装"
   ]
  },
  {
   "cell_type": "markdown",
   "metadata": {},
   "source": [
    "启动终端。\n",
    "\n",
    "如果您是通过 Anaconda 进行安装，请激活您的 Anaconda 环境。\n",
    "\n",
    "从 shell 中调用 Python，如下所示："
   ]
  },
  {
   "cell_type": "raw",
   "metadata": {},
   "source": [
    "$ python"
   ]
  },
  {
   "cell_type": "markdown",
   "metadata": {},
   "source": [
    " 在 Python 交互式 shell 中输入以下几行简短的程序代码："
   ]
  },
  {
   "cell_type": "raw",
   "metadata": {},
   "source": [
    ">>> import tensorflow as tf\n",
    ">>> hello = tf.constant('Hello, TensorFlow!')\n",
    ">>> sess = tf.Session()\n",
    ">>> print(sess.run(hello))"
   ]
  },
  {
   "cell_type": "markdown",
   "metadata": {},
   "source": [
    "如果系统输出以下内容，说明您可以开始编写 TensorFlow 程序了："
   ]
  },
  {
   "cell_type": "raw",
   "metadata": {},
   "source": [
    "Hello, TensorFlow!"
   ]
  },
  {
   "cell_type": "markdown",
   "metadata": {},
   "source": [
    "如果系统输出一条错误消息而不是问候语，请参阅常见的安装问题.https://www.tensorflow.org/install/install_windows#common_installation_problems"
   ]
  },
  {
   "cell_type": "code",
   "execution_count": null,
   "metadata": {},
   "outputs": [],
   "source": [
    "mac，Ubuntu版本安装 参见 https://www.tensorflow.org/community/"
   ]
  }
 ],
 "metadata": {
  "kernelspec": {
   "display_name": "Python 3",
   "language": "python",
   "name": "python3"
  },
  "language_info": {
   "codemirror_mode": {
    "name": "ipython",
    "version": 3
   },
   "file_extension": ".py",
   "mimetype": "text/x-python",
   "name": "python",
   "nbconvert_exporter": "python",
   "pygments_lexer": "ipython3",
   "version": "3.6.5"
  }
 },
 "nbformat": 4,
 "nbformat_minor": 2
}
