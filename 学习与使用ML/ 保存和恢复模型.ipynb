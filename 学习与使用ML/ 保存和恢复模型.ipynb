{
 "cells": [
  {
   "cell_type": "markdown",
   "metadata": {},
   "source": [
    "可以在培训期间和培训后保存模型进度。这意味着模型可以从中断的地方恢复，并避免长时间的训练。保存也意味着您可以共享您的模型，而其他人可以重新创建您的工作。在发布研究模型和技术时，大多数机器学习从业者分享：\n",
    "- 用于创建模型的代码，以及\n",
    "- 模型的训练重量或参数\n",
    "\n",
    "共享此数据有助于其他人了解模型的工作原理，并使用新数据自行尝试。"
   ]
  },
  {
   "cell_type": "markdown",
   "metadata": {},
   "source": [
    "## 建立"
   ]
  },
  {
   "cell_type": "markdown",
   "metadata": {},
   "source": [
    "安装和导入\n",
    "\n",
    "安装并导入TensorFlow和依赖项："
   ]
  },
  {
   "cell_type": "code",
   "execution_count": 2,
   "metadata": {},
   "outputs": [],
   "source": [
    "!pip install -q h5py pyyaml "
   ]
  },
  {
   "cell_type": "code",
   "execution_count": 4,
   "metadata": {},
   "outputs": [
    {
     "name": "stdout",
     "output_type": "stream",
     "text": [
      "1.10.0\n"
     ]
    }
   ],
   "source": [
    "from __future__ import absolute_import ,print_function, division\n",
    "import os\n",
    "\n",
    "import tensorflow as tf\n",
    "from tensorflow import keras\n",
    "\n",
    "print(tf.__version__)"
   ]
  },
  {
   "cell_type": "markdown",
   "metadata": {},
   "source": [
    "## 获取示例数据集\n",
    "我们将使用MNIST数据集来训练我们的模型来演示保存权重。要加速这些演示运行，请仅使用前1000个示例："
   ]
  },
  {
   "cell_type": "code",
   "execution_count": 5,
   "metadata": {},
   "outputs": [],
   "source": [
    "(train_images,train_labels),(test_images,test_labels) = keras.datasets.mnist.load_data()\n",
    "\n",
    "train_labels = train_labels[:1000]\n",
    "test_labels = test_labels[:1000]\n",
    "\n",
    "train_images = train_images[:1000].reshape(-1,28*28)/255.0\n",
    "test_images = test_images[:1000].reshape(-1,28*28)/255.0"
   ]
  },
  {
   "cell_type": "markdown",
   "metadata": {},
   "source": [
    "## 定义模型"
   ]
  },
  {
   "cell_type": "code",
   "execution_count": 11,
   "metadata": {},
   "outputs": [
    {
     "name": "stdout",
     "output_type": "stream",
     "text": [
      "_________________________________________________________________\n",
      "Layer (type)                 Output Shape              Param #   \n",
      "=================================================================\n",
      "dense (Dense)                (None, 512)               401920    \n",
      "_________________________________________________________________\n",
      "dropout (Dropout)            (None, 512)               0         \n",
      "_________________________________________________________________\n",
      "dense_1 (Dense)              (None, 10)                5130      \n",
      "=================================================================\n",
      "Total params: 407,050\n",
      "Trainable params: 407,050\n",
      "Non-trainable params: 0\n",
      "_________________________________________________________________\n"
     ]
    }
   ],
   "source": [
    "def create_model():\n",
    "    model = keras.models.Sequential([\n",
    "        keras.layers.Dense(512,activation=tf.nn.relu,input_shape=(784,)),\n",
    "        keras.layers.Dropout(0.2),\n",
    "        keras.layers.Dense(10,activation=tf.nn.softmax)\n",
    "    ])\n",
    "    \n",
    "    model.compile(optimizer = tf.keras.optimizers.Adam(),\n",
    "                 loss = keras.losses.sparse_categorical_crossentropy,\n",
    "                  metrics=['accuracy'])\n",
    "    return model\n",
    "\n",
    "model = create_model()\n",
    "model.summary()"
   ]
  },
  {
   "cell_type": "code",
   "execution_count": 12,
   "metadata": {},
   "outputs": [
    {
     "name": "stdout",
     "output_type": "stream",
     "text": [
      "Train on 1000 samples, validate on 1000 samples\n",
      "Epoch 1/10\n",
      "1000/1000 [==============================] - 1s 970us/step - loss: 1.1784 - acc: 0.6540 - val_loss: 0.7015 - val_acc: 0.7980\n",
      "\n",
      "Epoch 00001: saving model to training_1/cp.ckpt\n",
      "Epoch 2/10\n",
      "1000/1000 [==============================] - 0s 494us/step - loss: 0.4357 - acc: 0.8790 - val_loss: 0.5193 - val_acc: 0.8380\n",
      "\n",
      "Epoch 00002: saving model to training_1/cp.ckpt\n",
      "Epoch 3/10\n",
      "1000/1000 [==============================] - 0s 458us/step - loss: 0.2921 - acc: 0.9230 - val_loss: 0.4667 - val_acc: 0.8620\n",
      "\n",
      "Epoch 00003: saving model to training_1/cp.ckpt\n",
      "Epoch 4/10\n",
      "1000/1000 [==============================] - 0s 464us/step - loss: 0.2149 - acc: 0.9500 - val_loss: 0.4207 - val_acc: 0.8630\n",
      "\n",
      "Epoch 00004: saving model to training_1/cp.ckpt\n",
      "Epoch 5/10\n",
      "1000/1000 [==============================] - 0s 466us/step - loss: 0.1541 - acc: 0.9650 - val_loss: 0.4267 - val_acc: 0.8600\n",
      "\n",
      "Epoch 00005: saving model to training_1/cp.ckpt\n",
      "Epoch 6/10\n",
      "1000/1000 [==============================] - 0s 453us/step - loss: 0.1174 - acc: 0.9780 - val_loss: 0.4272 - val_acc: 0.8610\n",
      "\n",
      "Epoch 00006: saving model to training_1/cp.ckpt\n",
      "Epoch 7/10\n",
      "1000/1000 [==============================] - 0s 446us/step - loss: 0.0889 - acc: 0.9910 - val_loss: 0.4064 - val_acc: 0.8690\n",
      "\n",
      "Epoch 00007: saving model to training_1/cp.ckpt\n",
      "Epoch 8/10\n",
      "1000/1000 [==============================] - 0s 430us/step - loss: 0.0723 - acc: 0.9900 - val_loss: 0.4463 - val_acc: 0.8540\n",
      "\n",
      "Epoch 00008: saving model to training_1/cp.ckpt\n",
      "Epoch 9/10\n",
      "1000/1000 [==============================] - 0s 425us/step - loss: 0.0554 - acc: 0.9930 - val_loss: 0.4473 - val_acc: 0.8510\n",
      "\n",
      "Epoch 00009: saving model to training_1/cp.ckpt\n",
      "Epoch 10/10\n",
      "1000/1000 [==============================] - 0s 473us/step - loss: 0.0428 - acc: 0.9980 - val_loss: 0.3989 - val_acc: 0.8700\n",
      "\n",
      "Epoch 00010: saving model to training_1/cp.ckpt\n"
     ]
    },
    {
     "data": {
      "text/plain": [
       "<tensorflow.python.keras.callbacks.History at 0x23f41a627b8>"
      ]
     },
     "execution_count": 12,
     "metadata": {},
     "output_type": "execute_result"
    }
   ],
   "source": [
    "checkpoint_path = 'training_1/cp.ckpt'\n",
    "checkpoint_dir = os.path.dirname(checkpoint_path)\n",
    "\n",
    "# Create checkpoint callback\n",
    "cp_callback = keras.callbacks.ModelCheckpoint(checkpoint_path,\n",
    "                                              save_weights_only=True,\n",
    "                                              verbose=1)\n",
    "model = create_model()\n",
    "\n",
    "model.fit(train_images,train_labels,epochs=10,validation_data=(test_images,test_labels),\n",
    "          callbacks=[cp_callback])# pass callback to training"
   ]
  },
  {
   "cell_type": "markdown",
   "metadata": {},
   "source": [
    "这将创建一个TensorFlow检查点文件集合，这些文件在每个时期结束时更新："
   ]
  },
  {
   "cell_type": "raw",
   "metadata": {},
   "source": [
    "!ls {checkpoint_dir}"
   ]
  },
  {
   "cell_type": "raw",
   "metadata": {},
   "source": [
    "checkpoint cp.ckpt.data-00000-of-00001 cp.ckpt.index"
   ]
  },
  {
   "cell_type": "markdown",
   "metadata": {},
   "source": [
    "现在重建一个新的未经训练的模型，并在测试集上进行评估。未经训练的模型将在偶然水平上执行（准确度约为10％）："
   ]
  },
  {
   "cell_type": "code",
   "execution_count": 16,
   "metadata": {},
   "outputs": [
    {
     "name": "stdout",
     "output_type": "stream",
     "text": [
      "1000/1000 [==============================] - 0s 133us/step\n",
      "Untrain model,accuracy:10.40%\n"
     ]
    }
   ],
   "source": [
    "model = create_model()\n",
    "loss,acc = model.evaluate(test_images,test_labels)\n",
    "print('Untrain model,accuracy:{:5.2f}%'.format(100*acc))"
   ]
  },
  {
   "cell_type": "markdown",
   "metadata": {},
   "source": [
    "然后从检查点加载权重，并重新评估："
   ]
  },
  {
   "cell_type": "code",
   "execution_count": 17,
   "metadata": {},
   "outputs": [
    {
     "name": "stdout",
     "output_type": "stream",
     "text": [
      "1000/1000 [==============================] - 0s 46us/step\n",
      "Untrain model,accuracy:87.00%\n"
     ]
    }
   ],
   "source": [
    "model.load_weights(checkpoint_path)\n",
    "loss,acc = model.evaluate(test_images,test_labels)\n",
    "print('Untrain model,accuracy:{:5.2f}%'.format(100*acc))"
   ]
  },
  {
   "cell_type": "markdown",
   "metadata": {},
   "source": [
    "## 保存整个模型"
   ]
  },
  {
   "cell_type": "markdown",
   "metadata": {},
   "source": [
    "整个模型可以保存到包含权重值，模型配置甚至优化器配置的文件中。这允许您检查模型并稍后从完全相同的状态恢复培训 - 无需访问原始代码。\n",
    "\n",
    "在Keras中保存功能齐全的模型非常有用 - 您可以在TensorFlow.js中加载它们，然后在Web浏览器中训练和运行它们。\n",
    "\n",
    "Keras使用HDF5标准提供基本保存格式。出于我们的目的，可以将保存的模型视为单个二进制blob。"
   ]
  },
  {
   "cell_type": "code",
   "execution_count": 18,
   "metadata": {},
   "outputs": [
    {
     "name": "stdout",
     "output_type": "stream",
     "text": [
      "Epoch 1/5\n",
      "1000/1000 [==============================] - 1s 597us/step - loss: 1.1872 - acc: 0.6650\n",
      "Epoch 2/5\n",
      "1000/1000 [==============================] - 0s 360us/step - loss: 0.4401 - acc: 0.8660\n",
      "Epoch 3/5\n",
      "1000/1000 [==============================] - 0s 363us/step - loss: 0.2877 - acc: 0.9270\n",
      "Epoch 4/5\n",
      "1000/1000 [==============================] - 0s 440us/step - loss: 0.2154 - acc: 0.9440\n",
      "Epoch 5/5\n",
      "1000/1000 [==============================] - 0s 344us/step - loss: 0.1491 - acc: 0.9650\n"
     ]
    }
   ],
   "source": [
    "model = create_model()\n",
    "\n",
    "model.fit(train_images,train_labels,epochs=5)\n",
    "\n",
    "# Save entire model to a HDF5 file\n",
    "model.save('my_model.h5')"
   ]
  },
  {
   "cell_type": "markdown",
   "metadata": {},
   "source": [
    "现在从该文件重新创建模型："
   ]
  },
  {
   "cell_type": "code",
   "execution_count": 19,
   "metadata": {},
   "outputs": [
    {
     "name": "stdout",
     "output_type": "stream",
     "text": [
      "_________________________________________________________________\n",
      "Layer (type)                 Output Shape              Param #   \n",
      "=================================================================\n",
      "dense_8 (Dense)              (None, 512)               401920    \n",
      "_________________________________________________________________\n",
      "dropout_4 (Dropout)          (None, 512)               0         \n",
      "_________________________________________________________________\n",
      "dense_9 (Dense)              (None, 10)                5130      \n",
      "=================================================================\n",
      "Total params: 407,050\n",
      "Trainable params: 407,050\n",
      "Non-trainable params: 0\n",
      "_________________________________________________________________\n"
     ]
    }
   ],
   "source": [
    "new_model = keras.models.load_model('my_model.h5')\n",
    "new_model.summary()"
   ]
  },
  {
   "cell_type": "code",
   "execution_count": 20,
   "metadata": {},
   "outputs": [
    {
     "name": "stdout",
     "output_type": "stream",
     "text": [
      "1000/1000 [==============================] - 0s 163us/step\n",
      "Restored model, accuracy: 86.80%\n"
     ]
    }
   ],
   "source": [
    "loss,acc = new_model.evaluate(test_images,test_labels)\n",
    "print(\"Restored model, accuracy: {:5.2f}%\".format(100*acc))"
   ]
  },
  {
   "cell_type": "markdown",
   "metadata": {},
   "source": [
    "这项技术可以节省一切\n",
    "\n",
    "- 重量值\n",
    "- 模型的配置（架构）\n",
    "- 优化器配置\n",
    "\n",
    "Keras通过检查架构来保存模型。目前，它无法保存TensorFlow优化器（来自tf.train）。使用这些时，您需要在加载后重新编译模型，并且您将失去优化器的状态。"
   ]
  },
  {
   "cell_type": "code",
   "execution_count": null,
   "metadata": {},
   "outputs": [],
   "source": []
  }
 ],
 "metadata": {
  "kernelspec": {
   "display_name": "Python 3",
   "language": "python",
   "name": "python3"
  },
  "language_info": {
   "codemirror_mode": {
    "name": "ipython",
    "version": 3
   },
   "file_extension": ".py",
   "mimetype": "text/x-python",
   "name": "python",
   "nbconvert_exporter": "python",
   "pygments_lexer": "ipython3",
   "version": "3.6.5"
  }
 },
 "nbformat": 4,
 "nbformat_minor": 2
}
