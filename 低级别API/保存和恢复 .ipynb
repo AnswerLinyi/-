{
 "cells": [
  {
   "cell_type": "markdown",
   "metadata": {},
   "source": [
    "# 保存和恢复"
   ]
  },
  {
   "cell_type": "markdown",
   "metadata": {},
   "source": [
    "tf.train.Saver 类提供了保存和恢复模型的方法。通过 tf.saved_model.simple_save 函数可轻松地保存适合投入使用的模型。 Estimator 会自动保存和恢复 model_dir 中的变量。"
   ]
  },
  {
   "cell_type": "markdown",
   "metadata": {},
   "source": [
    "## 保存和恢复变量"
   ]
  },
  {
   "cell_type": "markdown",
   "metadata": {},
   "source": [
    "Tensorflow变量是表示由程序操作的共享持久状态的最佳方法。tf.train.Saver构造函数正对途中所有变量或指定列表的变量将save和restore操作添加到图中。Saver对象提供了运行这些操作的方法，并指定写入或读取该检查点文件的路径。"
   ]
  },
  {
   "cell_type": "markdown",
   "metadata": {},
   "source": [
    "### 保存变量"
   ]
  },
  {
   "cell_type": "markdown",
   "metadata": {},
   "source": [
    "使用tf.train.Saver()创建Saver来管理模型中的所有变量。"
   ]
  },
  {
   "cell_type": "code",
   "execution_count": 1,
   "metadata": {},
   "outputs": [
    {
     "name": "stderr",
     "output_type": "stream",
     "text": [
      "D:\\Anaconda\\lib\\site-packages\\h5py\\__init__.py:36: FutureWarning: Conversion of the second argument of issubdtype from `float` to `np.floating` is deprecated. In future, it will be treated as `np.float64 == np.dtype(float).type`.\n",
      "  from ._conv import register_converters as _register_converters\n"
     ]
    },
    {
     "name": "stdout",
     "output_type": "stream",
     "text": [
      "Model saved in path : /tmp/model.ckpt\n"
     ]
    }
   ],
   "source": [
    "import tensorflow as tf\n",
    "#Create some variable\n",
    "v1 = tf.get_variable(\"v1\",shape=[3],initializer=tf.zeros_initializer())\n",
    "v2 = tf.get_variable(\"v2\",shape=[5],initializer=tf.zeros_initializer())\n",
    "\n",
    "inc_v1 = v1.assign(v1+1)\n",
    "dec_v2 = v2.assign(v2-1)\n",
    "\n",
    "#Add an op to initialize the variables.\n",
    "init_op = tf.global_variables_initializer()\n",
    "\n",
    "#Add an op tosave and restore allthe variables.\n",
    "saver = tf.train.Saver()\n",
    "\n",
    "#Later,luanch the model,initialize the variable,do some work,and save the variable to disk.\n",
    "with tf.Session() as sess:\n",
    "    sess.run(init_op)\n",
    "    #Do some work with the model.\n",
    "    inc_v1.op.run()\n",
    "    dec_v2.op.run()\n",
    "    #Save the variable to disk.\n",
    "    save_path = saver.save(sess,\"/tmp/model.ckpt\")\n",
    "    print(\"Model saved in path : %s\" %save_path)"
   ]
  },
  {
   "cell_type": "markdown",
   "metadata": {},
   "source": [
    "### 恢复变量"
   ]
  },
  {
   "cell_type": "markdown",
   "metadata": {},
   "source": [
    "tf.train.Saver对象不仅将变量保存到检查点文件中，还将恢复变量。请注意，当您恢复变量时，不必事先将其初始化。"
   ]
  },
  {
   "cell_type": "code",
   "execution_count": 2,
   "metadata": {},
   "outputs": [
    {
     "name": "stdout",
     "output_type": "stream",
     "text": [
      "INFO:tensorflow:Restoring parameters from /tmp/model.ckpt\n",
      "Model restored.\n",
      "v1 : [1. 1. 1.]\n",
      "v2 : [-1. -1. -1. -1. -1.]\n"
     ]
    }
   ],
   "source": [
    "tf.reset_default_graph()\n",
    "\n",
    "#Create some variables.\n",
    "v1 = tf.get_variable(\"v1\",shape=[3])\n",
    "v2 = tf.get_variable(\"v2\",shape=[5])\n",
    "\n",
    "#Add ops to save and restore all the variables.\n",
    "saver = tf.train.Saver()\n",
    "\n",
    "#Later,Launch the model ,use the saver to restore variables from disk and do some work with the model .\n",
    "with tf.Session() as sess:\n",
    "    #Restore variables from disk.\n",
    "    saver.restore(sess,\"/tmp/model.ckpt\")\n",
    "    print(\"Model restored.\")\n",
    "    #Check the value of the variables\n",
    "    print(\"v1 : %s\" % v1.eval())\n",
    "    print(\"v2 : %s\" % v2.eval())"
   ]
  },
  {
   "cell_type": "raw",
   "metadata": {},
   "source": [
    "注意：并没有名为 /tmp/model.ckpt 的实体文件。它是为检查点创建的文件名的前缀。用户仅与前缀（而非检查点实体文件）互动。"
   ]
  },
  {
   "cell_type": "markdown",
   "metadata": {},
   "source": [
    "### 选择要保存和恢复的变量"
   ]
  },
  {
   "cell_type": "code",
   "execution_count": 3,
   "metadata": {},
   "outputs": [
    {
     "name": "stdout",
     "output_type": "stream",
     "text": [
      "INFO:tensorflow:Restoring parameters from /tmp/model.ckpt\n",
      "v1 : [0. 0. 0.]\n",
      "v2 : [-1. -1. -1. -1. -1.]\n"
     ]
    }
   ],
   "source": [
    "tf.reset_default_graph()\n",
    "#Create some variables.\n",
    "v1 = tf.get_variable(\"v1\",[3],initializer=tf.zeros_initializer())\n",
    "v2 = tf.get_variable(\"v2\",[5],initializer=tf.zeros_initializer())\n",
    "\n",
    "#Add ops to save and restore only 've' using the name \"v2\"\n",
    "saver = tf.train.Saver({\"v2\":v2})\n",
    "\n",
    "#Use the saver object normally after that.\n",
    "with tf.Session() as sess:\n",
    "    #Initialize v1 since the saver will not\n",
    "    v1.initializer.run()\n",
    "    saver.restore(sess,\"/tmp/model.ckpt\")\n",
    "    \n",
    "    print(\"v1 : %s\" % v1.eval())\n",
    "    print(\"v2 : %s\" % v2.eval())\n"
   ]
  },
  {
   "cell_type": "markdown",
   "metadata": {},
   "source": [
    "### 检查某个检查点中的变量"
   ]
  },
  {
   "cell_type": "markdown",
   "metadata": {},
   "source": [
    "我们可以使用 inspect_checkpoint 库快速检查某个检查点中的变量。"
   ]
  },
  {
   "cell_type": "code",
   "execution_count": 9,
   "metadata": {},
   "outputs": [
    {
     "name": "stdout",
     "output_type": "stream",
     "text": [
      "tensor_name:  v1\n",
      "[1. 1. 1.]\n",
      "tensor_name:  v2\n",
      "[-1. -1. -1. -1. -1.]\n",
      "tensor_name:  v1\n",
      "[1. 1. 1.]\n",
      "tensor_name:  v2\n",
      "[-1. -1. -1. -1. -1.]\n"
     ]
    }
   ],
   "source": [
    "#import the inspect_checkpoint library\n",
    "from tensorflow.python.tools import inspect_checkpoint as chkp\n",
    "\n",
    "#print all tensor in checkpoint file\n",
    "chkp.print_tensors_in_checkpoint_file(\"/tmp/model.ckpt\",tensor_name='',all_tensors=True)\n",
    "\n",
    "# tensor_name:  v1\n",
    "# [ 1.  1.  1.]\n",
    "# tensor_name:  v2\n",
    "# [-1. -1. -1. -1. -1.]\n",
    "\n",
    "#print only tensor v1 in checkpoint file\n",
    "chkp.print_tensors_in_checkpoint_file('/tmp/model.ckpt',tensor_name='v1',all_tensors=False)\n",
    "\n",
    "# tensor_name:  v1\n",
    "# [ 1.  1.  1.]\n",
    "\n",
    "#print only tensor v in checkpoint file\n",
    "chkp.print_tensors_in_checkpoint_file(\"/tmp/model.ckpt\",tensor_name=\"v2\",all_tensors=False)\n",
    "\n",
    "# tensor_name:  v2\n",
    "# [-1. -1. -1. -1. -1.]"
   ]
  },
  {
   "cell_type": "markdown",
   "metadata": {},
   "source": [
    "## 保存和恢复模型"
   ]
  },
  {
   "cell_type": "markdown",
   "metadata": {},
   "source": [
    "使用 SavedModel 保存和加载模型 - 变量、图和图的元数据。SavedModel 是一种独立于语言且可恢复的神秘序列化格式，使较高级别的系统和工具可以创建、使用和转换 TensorFlow 模型。"
   ]
  },
  {
   "cell_type": "markdown",
   "metadata": {},
   "source": [
    "## 构建和加载 SavedModel"
   ]
  },
  {
   "cell_type": "markdown",
   "metadata": {},
   "source": [
    "### 简单保存"
   ]
  },
  {
   "cell_type": "markdown",
   "metadata": {},
   "source": [
    "创建 SavedModel 的最简单方法是使用 tf.saved_model.simple_save 函数："
   ]
  },
  {
   "cell_type": "raw",
   "metadata": {},
   "source": [
    "simple_save(session,\n",
    "            export_dir,\n",
    "            inputs={\"x\": x, \"y\": y},\n",
    "            outputs={\"z\": z})"
   ]
  },
  {
   "cell_type": "markdown",
   "metadata": {},
   "source": [
    "### 手动构建 SavedModel"
   ]
  },
  {
   "cell_type": "markdown",
   "metadata": {},
   "source": [
    "使用 SavedModelBuilder 构建 SavedModel 的典型方法"
   ]
  },
  {
   "cell_type": "raw",
   "metadata": {},
   "source": [
    "export_dir = ...\n",
    "...\n",
    "builder = tf.saved_model.builder.SavedModelBuilder(export_dir)\n",
    "with tf.Session(graph=tf.Graph()) as sess:\n",
    "  ...\n",
    "  builder.add_meta_graph_and_variables(sess,\n",
    "                                       [tag_constants.TRAINING],\n",
    "                                       signature_def_map=foo_signatures,\n",
    "                                       assets_collection=foo_assets,\n",
    "                                       strip_default_attrs=True)\n",
    "...\n",
    "# Add a second MetaGraphDef for inference.\n",
    "with tf.Session(graph=tf.Graph()) as sess:\n",
    "  ...\n",
    "  builder.add_meta_graph([tag_constants.SERVING], strip_default_attrs=True)\n",
    "...\n",
    "builder.save()\n",
    "    "
   ]
  },
  {
   "cell_type": "markdown",
   "metadata": {},
   "source": [
    "### 加载 Python 版 SavedModel"
   ]
  },
  {
   "cell_type": "raw",
   "metadata": {},
   "source": [
    "export_dir = ...\n",
    "...\n",
    "with tf.Session(graph=tf.Graph()) as sess:\n",
    "  tf.saved_model.loader.load(sess, [tag_constants.TRAINING], export_dir)\n",
    "  ..."
   ]
  },
  {
   "cell_type": "markdown",
   "metadata": {},
   "source": [
    "### 加载 C++ 版 SavedModel"
   ]
  },
  {
   "cell_type": "raw",
   "metadata": {},
   "source": [
    "const string export_dir = ...\n",
    "SavedModelBundle bundle;\n",
    "...\n",
    "LoadSavedModel(session_options, run_options, export_dir, {kSavedModelTagTrain},\n",
    "               &bundle);"
   ]
  },
  {
   "cell_type": "markdown",
   "metadata": {},
   "source": [
    "### 在 TensorFlow Serving 中加载和提供 SavedModel"
   ]
  },
  {
   "cell_type": "raw",
   "metadata": {},
   "source": [
    "tensorflow_model_server --port=port-numbers --model_name=your-model-name --model_base_path=your_model_base_path"
   ]
  },
  {
   "cell_type": "raw",
   "metadata": {},
   "source": [
    "未完待续........"
   ]
  },
  {
   "cell_type": "code",
   "execution_count": null,
   "metadata": {},
   "outputs": [],
   "source": [
    "imp"
   ]
  }
 ],
 "metadata": {
  "kernelspec": {
   "display_name": "Python 3",
   "language": "python",
   "name": "python3"
  },
  "language_info": {
   "codemirror_mode": {
    "name": "ipython",
    "version": 3
   },
   "file_extension": ".py",
   "mimetype": "text/x-python",
   "name": "python",
   "nbconvert_exporter": "python",
   "pygments_lexer": "ipython3",
   "version": "3.6.5"
  }
 },
 "nbformat": 4,
 "nbformat_minor": 2
}
