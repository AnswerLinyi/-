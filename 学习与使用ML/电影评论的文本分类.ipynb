{
 "cells": [
  {
   "cell_type": "markdown",
   "metadata": {},
   "source": [
    "## 导入库"
   ]
  },
  {
   "cell_type": "code",
   "execution_count": 1,
   "metadata": {},
   "outputs": [
    {
     "name": "stderr",
     "output_type": "stream",
     "text": [
      "D:\\Anaconda\\lib\\site-packages\\h5py\\__init__.py:36: FutureWarning: Conversion of the second argument of issubdtype from `float` to `np.floating` is deprecated. In future, it will be treated as `np.float64 == np.dtype(float).type`.\n",
      "  from ._conv import register_converters as _register_converters\n"
     ]
    },
    {
     "name": "stdout",
     "output_type": "stream",
     "text": [
      "1.10.0\n"
     ]
    }
   ],
   "source": [
    "import tensorflow as tf\n",
    "from tensorflow import keras\n",
    "\n",
    "import numpy as np\n",
    "import matplotlib.pylab as plt\n",
    "\n",
    "print(tf.__version__)"
   ]
  },
  {
   "cell_type": "markdown",
   "metadata": {},
   "source": [
    "## 下载IMDB数据集\n",
    "我们将使用包含来自Internet 电影数据库的5万电影评论文本的IMDB 数据集。这些都分为2.5万项培训评论和2.5万项测试审查。训练和测试集是平衡的, 这意味着它们包含同样数量的正面和负面的评论。\n",
    "\n",
    "IMDB 数据集是用 TensorFlow 包装的。已经对其进行了预处理, 以便将审阅 (单词序列) 转换为整数序列, 其中每个整数表示字典中的特定单词。"
   ]
  },
  {
   "cell_type": "code",
   "execution_count": 2,
   "metadata": {},
   "outputs": [],
   "source": [
    "imdb = keras.datasets.imdb\n",
    "(train_data,train_labels),(test_data,test_labels) = imdb.load_data(num_words=10000)"
   ]
  },
  {
   "cell_type": "markdown",
   "metadata": {},
   "source": [
    "### 探索数据"
   ]
  },
  {
   "cell_type": "code",
   "execution_count": 3,
   "metadata": {},
   "outputs": [
    {
     "name": "stdout",
     "output_type": "stream",
     "text": [
      "Train entires:25000,label:25000\n"
     ]
    }
   ],
   "source": [
    "print('Train entires:{},label:{}'.format(len(train_data),len(train_labels)))"
   ]
  },
  {
   "cell_type": "code",
   "execution_count": 4,
   "metadata": {},
   "outputs": [
    {
     "name": "stdout",
     "output_type": "stream",
     "text": [
      "[1, 14, 22, 16, 43, 530, 973, 1622, 1385, 65, 458, 4468, 66, 3941, 4, 173, 36, 256, 5, 25, 100, 43, 838, 112, 50, 670, 2, 9, 35, 480, 284, 5, 150, 4, 172, 112, 167, 2, 336, 385, 39, 4, 172, 4536, 1111, 17, 546, 38, 13, 447, 4, 192, 50, 16, 6, 147, 2025, 19, 14, 22, 4, 1920, 4613, 469, 4, 22, 71, 87, 12, 16, 43, 530, 38, 76, 15, 13, 1247, 4, 22, 17, 515, 17, 12, 16, 626, 18, 2, 5, 62, 386, 12, 8, 316, 8, 106, 5, 4, 2223, 5244, 16, 480, 66, 3785, 33, 4, 130, 12, 16, 38, 619, 5, 25, 124, 51, 36, 135, 48, 25, 1415, 33, 6, 22, 12, 215, 28, 77, 52, 5, 14, 407, 16, 82, 2, 8, 4, 107, 117, 5952, 15, 256, 4, 2, 7, 3766, 5, 723, 36, 71, 43, 530, 476, 26, 400, 317, 46, 7, 4, 2, 1029, 13, 104, 88, 4, 381, 15, 297, 98, 32, 2071, 56, 26, 141, 6, 194, 7486, 18, 4, 226, 22, 21, 134, 476, 26, 480, 5, 144, 30, 5535, 18, 51, 36, 28, 224, 92, 25, 104, 4, 226, 65, 16, 38, 1334, 88, 12, 16, 283, 5, 16, 4472, 113, 103, 32, 15, 16, 5345, 19, 178, 32]\n"
     ]
    }
   ],
   "source": [
    "print(train_data[0])"
   ]
  },
  {
   "cell_type": "code",
   "execution_count": 5,
   "metadata": {},
   "outputs": [
    {
     "data": {
      "text/plain": [
       "(218, 189)"
      ]
     },
     "execution_count": 5,
     "metadata": {},
     "output_type": "execute_result"
    }
   ],
   "source": [
    "len(train_data[0]),len(train_data[1])"
   ]
  },
  {
   "cell_type": "markdown",
   "metadata": {},
   "source": [
    "### 将整数转换回单词"
   ]
  },
  {
   "cell_type": "code",
   "execution_count": 6,
   "metadata": {},
   "outputs": [],
   "source": [
    "# 将单词映射到整数索引的字典\n",
    "word_index = imdb.get_word_index()\n",
    "\n",
    "# 第一个指数是保留的\n",
    "# key  to value\n",
    "word_index = {k:(v+3) for k,v in word_index.items()} \n",
    "\n",
    "word_index[\"<PAD>\"] = 0\n",
    "word_index[\"<START>\"] = 1\n",
    "word_index[\"<UNK>\"] = 2  # unknown\n",
    "word_index[\"<UNUSED>\"] = 3\n",
    "\n",
    "#value  to key\n",
    "reverse_word_index = dict([(value, key) for (key, value) in word_index.items()])\n",
    "\n",
    "def decode_review(text):\n",
    "    return ' '.join([reverse_word_index.get(i) for i in text])"
   ]
  },
  {
   "cell_type": "code",
   "execution_count": 7,
   "metadata": {},
   "outputs": [],
   "source": [
    "# a={'fawn': 34701, 'tsukino': 52006, 'nunnery': 52007, 'sonja': 16816, \n",
    "#    'vani': 63951, 'woods': 1408, 'spiders': 16115, 'hanging': 2345, \n",
    "#    'woody': 2289, 'trawling': 52008, \"hold's\": 52009, 'comically': 11307, \n",
    "#    'localized': 40830, 'disobeying': 30568, \"'royale\": 52010, \"harpo's\": 40831, \n",
    "#    'canet': 52011, 'aileen': 19313, 'acurately': 52012, \"diplomat's\": 52013,\n",
    "#    'rickman': 25242, 'arranged': 6746, 'rumbustious': 52014, 'familiarness': 52015, \n",
    "#    \"spider'\": 52016, 'hahahah': 68804, \"wood'\": 52017, 'transvestism': 40833, \n",
    "#    \"hangin'\": 34702}\n",
    "# reverse_word_index = dict([(value, key) for (key, value) in a.items()])\n",
    "# print(reverse_word_index)    "
   ]
  },
  {
   "cell_type": "code",
   "execution_count": 8,
   "metadata": {},
   "outputs": [
    {
     "data": {
      "text/plain": [
       "\"<START> this film was just brilliant casting location scenery story direction everyone's really suited the part they played and you could just imagine being there robert <UNK> is an amazing actor and now the same being director <UNK> father came from the same scottish island as myself so i loved the fact there was a real connection with this film the witty remarks throughout the film were great it was just brilliant so much that i bought the film as soon as it was released for <UNK> and would recommend it to everyone to watch and the fly fishing was amazing really cried at the end it was so sad and you know what they say if you cry at a film it must have been good and this definitely was also <UNK> to the two little boy's that played the <UNK> of norman and paul they were just brilliant children are often left out of the <UNK> list i think because the stars that play them all grown up are such a big profile for the whole film but these children are amazing and should be praised for what they have done don't you think the whole story was so lovely because it was true and was someone's life after all that was shared with us all\""
      ]
     },
     "execution_count": 8,
     "metadata": {},
     "output_type": "execute_result"
    }
   ],
   "source": [
    "decode_review(train_data[0])"
   ]
  },
  {
   "cell_type": "markdown",
   "metadata": {},
   "source": [
    "## 准备数据"
   ]
  },
  {
   "cell_type": "markdown",
   "metadata": {},
   "source": [
    "评论 - 整数数组 - 必须在输入神经网络之前转换为张量。这种转换可以通过以下两种方式完成：\n",
    "\n",
    "- 对数组进行单热编码，将其转换为0和1的向量。例如，序列[3,5]将成为10,000维向量，除了索引3和5（它们是1）之外全部为零。然后，将其作为我们网络中的第一层 - 一个可以处理浮点矢量数据的Dense层。然而，这种方法是存储器密集型的，需要num_words * num_reviews大小矩阵。\n",
    "\n",
    "- 或者，我们可以填充数组，使它们都具有相同的长度，然后创建一个整数张量的形状max_length * num_reviews。我们可以使用能够处理这种形状的嵌入层作为我们网络中的第一层。"
   ]
  },
  {
   "cell_type": "code",
   "execution_count": 9,
   "metadata": {},
   "outputs": [],
   "source": [
    "train_data = keras.preprocessing.sequence.pad_sequences(train_data,\n",
    "                                                        value=word_index[\"<PAD>\"],\n",
    "                                                        padding='post',\n",
    "                                                        maxlen=256)\n",
    "\n",
    "test_data = keras.preprocessing.sequence.pad_sequences(test_data,\n",
    "                                                       value=word_index[\"<PAD>\"],\n",
    "                                                       padding='post',\n",
    "                                                       maxlen=256)"
   ]
  },
  {
   "cell_type": "code",
   "execution_count": 10,
   "metadata": {},
   "outputs": [
    {
     "data": {
      "text/plain": [
       "(256, 256)"
      ]
     },
     "execution_count": 10,
     "metadata": {},
     "output_type": "execute_result"
    }
   ],
   "source": [
    "len(train_data[0]),len(train_data[1])"
   ]
  },
  {
   "cell_type": "code",
   "execution_count": 11,
   "metadata": {},
   "outputs": [
    {
     "name": "stdout",
     "output_type": "stream",
     "text": [
      "[   1   14   22   16   43  530  973 1622 1385   65  458 4468   66 3941\n",
      "    4  173   36  256    5   25  100   43  838  112   50  670    2    9\n",
      "   35  480  284    5  150    4  172  112  167    2  336  385   39    4\n",
      "  172 4536 1111   17  546   38   13  447    4  192   50   16    6  147\n",
      " 2025   19   14   22    4 1920 4613  469    4   22   71   87   12   16\n",
      "   43  530   38   76   15   13 1247    4   22   17  515   17   12   16\n",
      "  626   18    2    5   62  386   12    8  316    8  106    5    4 2223\n",
      " 5244   16  480   66 3785   33    4  130   12   16   38  619    5   25\n",
      "  124   51   36  135   48   25 1415   33    6   22   12  215   28   77\n",
      "   52    5   14  407   16   82    2    8    4  107  117 5952   15  256\n",
      "    4    2    7 3766    5  723   36   71   43  530  476   26  400  317\n",
      "   46    7    4    2 1029   13  104   88    4  381   15  297   98   32\n",
      " 2071   56   26  141    6  194 7486   18    4  226   22   21  134  476\n",
      "   26  480    5  144   30 5535   18   51   36   28  224   92   25  104\n",
      "    4  226   65   16   38 1334   88   12   16  283    5   16 4472  113\n",
      "  103   32   15   16 5345   19  178   32    0    0    0    0    0    0\n",
      "    0    0    0    0    0    0    0    0    0    0    0    0    0    0\n",
      "    0    0    0    0    0    0    0    0    0    0    0    0    0    0\n",
      "    0    0    0    0]\n"
     ]
    }
   ],
   "source": [
    "print(train_data[0])"
   ]
  },
  {
   "cell_type": "markdown",
   "metadata": {},
   "source": [
    "## 建立模型\n",
    "这些图层按顺序堆叠以构建分类器：\n",
    "\n",
    "- 第一层是Embedding一层。该层采用整数编码的词汇表，并为每个词索引查找嵌入向量。这些向量是作为模型训练学习的。向量为输出数组添加维度。得到的尺寸是：(batch, sequence, embedding)。\n",
    "- 接下来，GlobalAveragePooling1D通过对序列维度求平均，层为每个示例返回固定长度的输出向量。这允许模型以最简单的方式处理可变长度的输入。\n",
    "- 这个固定长度的输出矢量通过一个Dense带有16个隐藏单元的完全连接（）层传输。\n",
    "最后一层与单个输出节点密集连接。使用sigmoid激活函数，此值是介于0和1之间的浮点数，表示概率或置信度。"
   ]
  },
  {
   "cell_type": "code",
   "execution_count": 12,
   "metadata": {},
   "outputs": [
    {
     "name": "stdout",
     "output_type": "stream",
     "text": [
      "_________________________________________________________________\n",
      "Layer (type)                 Output Shape              Param #   \n",
      "=================================================================\n",
      "embedding (Embedding)        (None, None, 16)          160000    \n",
      "_________________________________________________________________\n",
      "global_average_pooling1d (Gl (None, 16)                0         \n",
      "_________________________________________________________________\n",
      "dense (Dense)                (None, 16)                272       \n",
      "_________________________________________________________________\n",
      "dense_1 (Dense)              (None, 1)                 17        \n",
      "=================================================================\n",
      "Total params: 160,289\n",
      "Trainable params: 160,289\n",
      "Non-trainable params: 0\n",
      "_________________________________________________________________\n"
     ]
    }
   ],
   "source": [
    "vocab_size = 10000\n",
    "model = keras.Sequential()\n",
    "model.add(keras.layers.Embedding(vocab_size,16))\n",
    "#1D平均池化\n",
    "model.add(keras.layers.GlobalAveragePooling1D())\n",
    "model.add(keras.layers.Dense(16,activation=tf.nn.relu))\n",
    "model.add(keras.layers.Dense(1,activation=tf.nn.sigmoid))\n",
    "\n",
    "model.summary()"
   ]
  },
  {
   "cell_type": "markdown",
   "metadata": {},
   "source": [
    "## 损失函数和优化器"
   ]
  },
  {
   "cell_type": "code",
   "execution_count": 13,
   "metadata": {},
   "outputs": [],
   "source": [
    "model.compile(optimizer=tf.train.AdamOptimizer(),\n",
    "              loss= 'binary_crossentropy',\n",
    "              metrics=['accuracy'])"
   ]
  },
  {
   "cell_type": "markdown",
   "metadata": {},
   "source": [
    "## 创建验证集"
   ]
  },
  {
   "cell_type": "code",
   "execution_count": 14,
   "metadata": {},
   "outputs": [],
   "source": [
    "x_val = train_data[:10000]\n",
    "partial_x_train = train_data[10000:]\n",
    "\n",
    "y_val = train_labels[:10000]\n",
    "partial_y_train = train_labels[10000:]"
   ]
  },
  {
   "cell_type": "markdown",
   "metadata": {},
   "source": [
    "## 训练模型"
   ]
  },
  {
   "cell_type": "code",
   "execution_count": 15,
   "metadata": {},
   "outputs": [
    {
     "name": "stdout",
     "output_type": "stream",
     "text": [
      "Train on 15000 samples, validate on 10000 samples\n",
      "Epoch 1/40\n",
      "15000/15000 [==============================] - 1s 75us/step - loss: 0.6969 - acc: 0.5043 - val_loss: 0.6922 - val_acc: 0.5250\n",
      "Epoch 2/40\n",
      "15000/15000 [==============================] - 1s 58us/step - loss: 0.6912 - acc: 0.5629 - val_loss: 0.6905 - val_acc: 0.5855\n",
      "Epoch 3/40\n",
      "15000/15000 [==============================] - 1s 63us/step - loss: 0.6894 - acc: 0.6105 - val_loss: 0.6890 - val_acc: 0.5821\n",
      "Epoch 4/40\n",
      "15000/15000 [==============================] - 1s 59us/step - loss: 0.6874 - acc: 0.6498 - val_loss: 0.6869 - val_acc: 0.6430\n",
      "Epoch 5/40\n",
      "15000/15000 [==============================] - 1s 60us/step - loss: 0.6848 - acc: 0.6407 - val_loss: 0.6843 - val_acc: 0.6850\n",
      "Epoch 6/40\n",
      "15000/15000 [==============================] - 1s 61us/step - loss: 0.6815 - acc: 0.7168 - val_loss: 0.6808 - val_acc: 0.7194\n",
      "Epoch 7/40\n",
      "15000/15000 [==============================] - 1s 60us/step - loss: 0.6771 - acc: 0.7288 - val_loss: 0.6762 - val_acc: 0.7197\n",
      "Epoch 8/40\n",
      "15000/15000 [==============================] - 1s 57us/step - loss: 0.6710 - acc: 0.7414 - val_loss: 0.6697 - val_acc: 0.7403\n",
      "Epoch 9/40\n",
      "15000/15000 [==============================] - 1s 59us/step - loss: 0.6620 - acc: 0.7590 - val_loss: 0.6587 - val_acc: 0.7476\n",
      "Epoch 10/40\n",
      "15000/15000 [==============================] - 1s 57us/step - loss: 0.6475 - acc: 0.7748 - val_loss: 0.6438 - val_acc: 0.7555\n",
      "Epoch 11/40\n",
      "15000/15000 [==============================] - 1s 59us/step - loss: 0.6298 - acc: 0.7665 - val_loss: 0.6256 - val_acc: 0.7615\n",
      "Epoch 12/40\n",
      "15000/15000 [==============================] - 1s 58us/step - loss: 0.6076 - acc: 0.7850 - val_loss: 0.6042 - val_acc: 0.7671\n",
      "Epoch 13/40\n",
      "15000/15000 [==============================] - 1s 57us/step - loss: 0.5823 - acc: 0.7952 - val_loss: 0.5818 - val_acc: 0.7772\n",
      "Epoch 14/40\n",
      "15000/15000 [==============================] - 1s 58us/step - loss: 0.5555 - acc: 0.8043 - val_loss: 0.5564 - val_acc: 0.7871\n",
      "Epoch 15/40\n",
      "15000/15000 [==============================] - 1s 57us/step - loss: 0.5276 - acc: 0.8137 - val_loss: 0.5307 - val_acc: 0.7980\n",
      "Epoch 16/40\n",
      "15000/15000 [==============================] - 1s 58us/step - loss: 0.5002 - acc: 0.8229 - val_loss: 0.5065 - val_acc: 0.8024\n",
      "Epoch 17/40\n",
      "15000/15000 [==============================] - 1s 59us/step - loss: 0.4721 - acc: 0.8363 - val_loss: 0.4810 - val_acc: 0.8153\n",
      "Epoch 18/40\n",
      "15000/15000 [==============================] - 1s 56us/step - loss: 0.4437 - acc: 0.8459 - val_loss: 0.4562 - val_acc: 0.8250\n",
      "Epoch 19/40\n",
      "15000/15000 [==============================] - 1s 57us/step - loss: 0.4165 - acc: 0.8541 - val_loss: 0.4331 - val_acc: 0.8344\n",
      "Epoch 20/40\n",
      "15000/15000 [==============================] - 1s 57us/step - loss: 0.3915 - acc: 0.8629 - val_loss: 0.4127 - val_acc: 0.8418\n",
      "Epoch 21/40\n",
      "15000/15000 [==============================] - 1s 57us/step - loss: 0.3689 - acc: 0.8705 - val_loss: 0.3949 - val_acc: 0.8472\n",
      "Epoch 22/40\n",
      "15000/15000 [==============================] - 1s 60us/step - loss: 0.3494 - acc: 0.8779 - val_loss: 0.3799 - val_acc: 0.8529\n",
      "Epoch 23/40\n",
      "15000/15000 [==============================] - 1s 61us/step - loss: 0.3325 - acc: 0.8818 - val_loss: 0.3675 - val_acc: 0.8553\n",
      "Epoch 24/40\n",
      "15000/15000 [==============================] - 1s 75us/step - loss: 0.3173 - acc: 0.8870 - val_loss: 0.3565 - val_acc: 0.8607\n",
      "Epoch 25/40\n",
      "15000/15000 [==============================] - 1s 60us/step - loss: 0.3042 - acc: 0.8914 - val_loss: 0.3474 - val_acc: 0.8640\n",
      "Epoch 26/40\n",
      "15000/15000 [==============================] - 1s 65us/step - loss: 0.2925 - acc: 0.8937 - val_loss: 0.3396 - val_acc: 0.8672\n",
      "Epoch 27/40\n",
      "15000/15000 [==============================] - 1s 61us/step - loss: 0.2822 - acc: 0.8975 - val_loss: 0.3329 - val_acc: 0.8698\n",
      "Epoch 28/40\n",
      "15000/15000 [==============================] - 1s 67us/step - loss: 0.2724 - acc: 0.9014 - val_loss: 0.3269 - val_acc: 0.8717\n",
      "Epoch 29/40\n",
      "15000/15000 [==============================] - 1s 77us/step - loss: 0.2636 - acc: 0.9053 - val_loss: 0.3220 - val_acc: 0.8729\n",
      "Epoch 30/40\n",
      "15000/15000 [==============================] - 1s 72us/step - loss: 0.2561 - acc: 0.9061 - val_loss: 0.3175 - val_acc: 0.8752\n",
      "Epoch 31/40\n",
      "15000/15000 [==============================] - 1s 63us/step - loss: 0.2480 - acc: 0.9114 - val_loss: 0.3137 - val_acc: 0.8758\n",
      "Epoch 32/40\n",
      "15000/15000 [==============================] - 1s 62us/step - loss: 0.2415 - acc: 0.9129 - val_loss: 0.3103 - val_acc: 0.8760\n",
      "Epoch 33/40\n",
      "15000/15000 [==============================] - 1s 61us/step - loss: 0.2344 - acc: 0.9161 - val_loss: 0.3074 - val_acc: 0.8776\n",
      "Epoch 34/40\n",
      "15000/15000 [==============================] - 1s 61us/step - loss: 0.2281 - acc: 0.9183 - val_loss: 0.3045 - val_acc: 0.8773\n",
      "Epoch 35/40\n",
      "15000/15000 [==============================] - 1s 62us/step - loss: 0.2225 - acc: 0.9199 - val_loss: 0.3021 - val_acc: 0.8782\n",
      "Epoch 36/40\n",
      "15000/15000 [==============================] - 1s 59us/step - loss: 0.2164 - acc: 0.9219 - val_loss: 0.3001 - val_acc: 0.8785\n",
      "Epoch 37/40\n",
      "15000/15000 [==============================] - 1s 64us/step - loss: 0.2112 - acc: 0.9241 - val_loss: 0.2986 - val_acc: 0.8798\n",
      "Epoch 38/40\n",
      "15000/15000 [==============================] - 1s 68us/step - loss: 0.2060 - acc: 0.9260 - val_loss: 0.2962 - val_acc: 0.8801\n",
      "Epoch 39/40\n",
      "15000/15000 [==============================] - 1s 62us/step - loss: 0.2008 - acc: 0.9287 - val_loss: 0.2949 - val_acc: 0.8809\n",
      "Epoch 40/40\n",
      "15000/15000 [==============================] - 1s 62us/step - loss: 0.1960 - acc: 0.9294 - val_loss: 0.2933 - val_acc: 0.8816\n"
     ]
    }
   ],
   "source": [
    "history = model.fit(partial_x_train,\n",
    "                    partial_y_train,\n",
    "                    epochs=40,\n",
    "                    batch_size=512,\n",
    "                    validation_data=(x_val, y_val),\n",
    "                    verbose=1)"
   ]
  },
  {
   "cell_type": "markdown",
   "metadata": {},
   "source": [
    "## 评估模型"
   ]
  },
  {
   "cell_type": "code",
   "execution_count": 16,
   "metadata": {},
   "outputs": [
    {
     "name": "stdout",
     "output_type": "stream",
     "text": [
      "25000/25000 [==============================] - 0s 18us/step\n",
      "[0.30718892672538756, 0.87352]\n"
     ]
    }
   ],
   "source": [
    "results = model.evaluate(test_data,test_labels)\n",
    "\n",
    "print(results)"
   ]
  },
  {
   "cell_type": "markdown",
   "metadata": {},
   "source": [
    "## 创建一段时间内准确性和损失图表\n",
    "model.fit()返回一个History包含字典的对象，其中包含训练期间发生的所有事情："
   ]
  },
  {
   "cell_type": "code",
   "execution_count": 17,
   "metadata": {},
   "outputs": [
    {
     "data": {
      "text/plain": [
       "dict_keys(['val_loss', 'val_acc', 'loss', 'acc'])"
      ]
     },
     "execution_count": 17,
     "metadata": {},
     "output_type": "execute_result"
    }
   ],
   "source": [
    "history_dict = history.history\n",
    "history_dict.keys()"
   ]
  },
  {
   "cell_type": "markdown",
   "metadata": {},
   "source": [
    "有四个条目：在培训和验证期间，每个条目对应一个受监控的指标。我们可以使用这些来绘制训练和验证损失以进行比较，以及培训和验证准确性："
   ]
  },
  {
   "cell_type": "code",
   "execution_count": 18,
   "metadata": {},
   "outputs": [
    {
     "data": {
      "image/png": "[encoded data removed]",
      "text/plain": [
       "<Figure size 432x288 with 1 Axes>"
      ]
     },
     "metadata": {},
     "output_type": "display_data"
    }
   ],
   "source": [
    "import matplotlib.pyplot as plt\n",
    "\n",
    "acc = history.history['acc']\n",
    "val_acc = history.history['val_acc']\n",
    "loss = history.history['loss']\n",
    "val_loss = history.history['val_loss']\n",
    "\n",
    "epochs = range(1, len(acc) + 1)\n",
    "\n",
    "# \"bo\" is for \"blue dot\"\n",
    "plt.plot(epochs, loss, 'bo', label='Training loss')\n",
    "# b is for \"solid blue line\"\n",
    "plt.plot(epochs, val_loss, 'b', label='Validation loss')\n",
    "plt.title('Training and validation loss')\n",
    "plt.xlabel('Epochs')\n",
    "plt.ylabel('Loss')\n",
    "plt.legend()\n",
    "\n",
    "plt.show()"
   ]
  },
  {
   "cell_type": "code",
   "execution_count": 19,
   "metadata": {},
   "outputs": [
    {
     "data": {
      "image/png": "[encoded data removed]",
      "text/plain": [
       "<Figure size 432x288 with 1 Axes>"
      ]
     },
     "metadata": {},
     "output_type": "display_data"
    }
   ],
   "source": [
    "plt.clf()   # clear figure\n",
    "acc_values = history_dict['acc']\n",
    "val_acc_values = history_dict['val_acc']\n",
    "\n",
    "plt.plot(epochs,acc,'bo',label='Training acc')\n",
    "plt.plot(epochs,val_acc,'b',label='Validation acc')\n",
    "plt.title('Training and Validation accuracy')\n",
    "plt.xlabel('Epochs')\n",
    "plt.ylabel('Accuracy')\n",
    "plt.legend()\n",
    "\n",
    "plt.show()"
   ]
  },
  {
   "cell_type": "code",
   "execution_count": null,
   "metadata": {},
   "outputs": [],
   "source": []
  },
  {
   "cell_type": "code",
   "execution_count": null,
   "metadata": {},
   "outputs": [],
   "source": []
  }
 ],
 "metadata": {
  "kernelspec": {
   "display_name": "Python 3",
   "language": "python",
   "name": "python3"
  },
  "language_info": {
   "codemirror_mode": {
    "name": "ipython",
    "version": 3
   },
   "file_extension": ".py",
   "mimetype": "text/x-python",
   "name": "python",
   "nbconvert_exporter": "python",
   "pygments_lexer": "ipython3",
   "version": "3.6.5"
  }
 },
 "nbformat": 4,
 "nbformat_minor": 2
}
