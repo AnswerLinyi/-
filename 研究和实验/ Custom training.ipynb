{
 "cells": [
  {
   "cell_type": "markdown",
   "metadata": {},
   "source": [
    "## 导入库"
   ]
  },
  {
   "cell_type": "code",
   "execution_count": 1,
   "metadata": {},
   "outputs": [
    {
     "name": "stderr",
     "output_type": "stream",
     "text": [
      "D:\\Anaconda\\lib\\site-packages\\h5py\\__init__.py:36: FutureWarning: Conversion of the second argument of issubdtype from `float` to `np.floating` is deprecated. In future, it will be treated as `np.float64 == np.dtype(float).type`.\n",
      "  from ._conv import register_converters as _register_converters\n"
     ]
    },
    {
     "name": "stdout",
     "output_type": "stream",
     "text": [
      "Tensorflow Version: 1.10.0\n",
      "Eager execution: True\n"
     ]
    }
   ],
   "source": [
    "from __future__ import  absolute_import,division,print_function\n",
    "\n",
    "import os\n",
    "import matplotlib.pyplot as plt\n",
    "\n",
    "import tensorflow as tf\n",
    "import tensorflow.contrib.eager as tfe\n",
    "\n",
    "tf.enable_eager_execution()\n",
    "\n",
    "print('Tensorflow Version: {}'.format(tf.__version__))\n",
    "print('Eager execution: {}'.format(tf.executing_eagerly()))"
   ]
  },
  {
   "cell_type": "markdown",
   "metadata": {},
   "source": [
    "## 导入和解析数据集"
   ]
  },
  {
   "cell_type": "code",
   "execution_count": 2,
   "metadata": {},
   "outputs": [
    {
     "name": "stdout",
     "output_type": "stream",
     "text": [
      "Local copy of the dataset file:C:\\Users\\THINK\\.keras\\datasets\\iris_training.csv\n"
     ]
    }
   ],
   "source": [
    "train_data_url = \"http://download.tensorflow.org/data/iris_training.csv\"\n",
    "#train_data_fliepath\n",
    "train_data_fp = tf.keras.utils.get_file(fname=os.path.basename(train_data_url),\n",
    "                                        origin=train_data_url)\n",
    "\n",
    "print('Local copy of the dataset file:{}'.format(train_data_fp))"
   ]
  },
  {
   "cell_type": "markdown",
   "metadata": {},
   "source": [
    "## 检查数据"
   ]
  },
  {
   "cell_type": "code",
   "execution_count": 3,
   "metadata": {},
   "outputs": [
    {
     "data": {
      "text/html": [
       "<div>\n",
       "<style scoped>\n",
       "    .dataframe tbody tr th:only-of-type {\n",
       "        vertical-align: middle;\n",
       "    }\n",
       "\n",
       "    .dataframe tbody tr th {\n",
       "        vertical-align: top;\n",
       "    }\n",
       "\n",
       "    .dataframe thead th {\n",
       "        text-align: right;\n",
       "    }\n",
       "</style>\n",
       "<table border=\"1\" class=\"dataframe\">\n",
       "  <thead>\n",
       "    <tr style=\"text-align: right;\">\n",
       "      <th></th>\n",
       "      <th>120</th>\n",
       "      <th>4</th>\n",
       "      <th>setosa</th>\n",
       "      <th>versicolor</th>\n",
       "      <th>virginica</th>\n",
       "    </tr>\n",
       "  </thead>\n",
       "  <tbody>\n",
       "    <tr>\n",
       "      <th>0</th>\n",
       "      <td>6.4</td>\n",
       "      <td>2.8</td>\n",
       "      <td>5.6</td>\n",
       "      <td>2.2</td>\n",
       "      <td>2</td>\n",
       "    </tr>\n",
       "    <tr>\n",
       "      <th>1</th>\n",
       "      <td>5.0</td>\n",
       "      <td>2.3</td>\n",
       "      <td>3.3</td>\n",
       "      <td>1.0</td>\n",
       "      <td>1</td>\n",
       "    </tr>\n",
       "    <tr>\n",
       "      <th>2</th>\n",
       "      <td>4.9</td>\n",
       "      <td>2.5</td>\n",
       "      <td>4.5</td>\n",
       "      <td>1.7</td>\n",
       "      <td>2</td>\n",
       "    </tr>\n",
       "    <tr>\n",
       "      <th>3</th>\n",
       "      <td>4.9</td>\n",
       "      <td>3.1</td>\n",
       "      <td>1.5</td>\n",
       "      <td>0.1</td>\n",
       "      <td>0</td>\n",
       "    </tr>\n",
       "    <tr>\n",
       "      <th>4</th>\n",
       "      <td>5.7</td>\n",
       "      <td>3.8</td>\n",
       "      <td>1.7</td>\n",
       "      <td>0.3</td>\n",
       "      <td>0</td>\n",
       "    </tr>\n",
       "    <tr>\n",
       "      <th>5</th>\n",
       "      <td>4.4</td>\n",
       "      <td>3.2</td>\n",
       "      <td>1.3</td>\n",
       "      <td>0.2</td>\n",
       "      <td>0</td>\n",
       "    </tr>\n",
       "    <tr>\n",
       "      <th>6</th>\n",
       "      <td>5.4</td>\n",
       "      <td>3.4</td>\n",
       "      <td>1.5</td>\n",
       "      <td>0.4</td>\n",
       "      <td>0</td>\n",
       "    </tr>\n",
       "    <tr>\n",
       "      <th>7</th>\n",
       "      <td>6.9</td>\n",
       "      <td>3.1</td>\n",
       "      <td>5.1</td>\n",
       "      <td>2.3</td>\n",
       "      <td>2</td>\n",
       "    </tr>\n",
       "    <tr>\n",
       "      <th>8</th>\n",
       "      <td>6.7</td>\n",
       "      <td>3.1</td>\n",
       "      <td>4.4</td>\n",
       "      <td>1.4</td>\n",
       "      <td>1</td>\n",
       "    </tr>\n",
       "    <tr>\n",
       "      <th>9</th>\n",
       "      <td>5.1</td>\n",
       "      <td>3.7</td>\n",
       "      <td>1.5</td>\n",
       "      <td>0.4</td>\n",
       "      <td>0</td>\n",
       "    </tr>\n",
       "  </tbody>\n",
       "</table>\n",
       "</div>"
      ],
      "text/plain": [
       "   120    4  setosa  versicolor  virginica\n",
       "0  6.4  2.8     5.6         2.2          2\n",
       "1  5.0  2.3     3.3         1.0          1\n",
       "2  4.9  2.5     4.5         1.7          2\n",
       "3  4.9  3.1     1.5         0.1          0\n",
       "4  5.7  3.8     1.7         0.3          0\n",
       "5  4.4  3.2     1.3         0.2          0\n",
       "6  5.4  3.4     1.5         0.4          0\n",
       "7  6.9  3.1     5.1         2.3          2\n",
       "8  6.7  3.1     4.4         1.4          1\n",
       "9  5.1  3.7     1.5         0.4          0"
      ]
     },
     "execution_count": 3,
     "metadata": {},
     "output_type": "execute_result"
    }
   ],
   "source": [
    "import pandas as pd\n",
    "train = pd.read_csv(train_data_fp)\n",
    "train[:10]"
   ]
  },
  {
   "cell_type": "code",
   "execution_count": 4,
   "metadata": {},
   "outputs": [
    {
     "name": "stdout",
     "output_type": "stream",
     "text": [
      "Feature:['sepal_length', 'sepal_width', 'petal_length', 'petal_width']\n",
      "label: species\n"
     ]
    }
   ],
   "source": [
    "# column order in CSV file\n",
    "column_names = ['sepal_length', 'sepal_width', 'petal_length', 'petal_width', 'species']\n",
    "\n",
    "feature_names = column_names[:-1]\n",
    "label_name = column_names[-1]\n",
    "                \n",
    "print(\"Feature:{}\".format(feature_names))\n",
    "print(\"label: {}\".format(label_name))"
   ]
  },
  {
   "cell_type": "code",
   "execution_count": 5,
   "metadata": {},
   "outputs": [],
   "source": [
    "class_names = ['Iris setosa','Iris versicolor','Iris virginica']"
   ]
  },
  {
   "cell_type": "markdown",
   "metadata": {},
   "source": [
    "## 创建一个 tf.data.Dataset"
   ]
  },
  {
   "cell_type": "code",
   "execution_count": 6,
   "metadata": {},
   "outputs": [],
   "source": [
    "batch_size = 32\n",
    "\n",
    "train_dataset = tf.contrib.data.make_csv_dataset(train_data_fp,\n",
    "                                                 batch_size,\n",
    "                                                 column_names=column_names,\n",
    "                                                 label_name=label_name,\n",
    "                                                 num_epochs=1)"
   ]
  },
  {
   "cell_type": "raw",
   "metadata": {},
   "source": [
    "该make_csv_dataset函数返回tf.data.Dataset的(features, label)对，其中features是一个字典：{'feature_name': value}"
   ]
  },
  {
   "cell_type": "raw",
   "metadata": {},
   "source": [
    "启用eager执行后，这些Dataset对象是可迭代的。我们来看看一批功能："
   ]
  },
  {
   "cell_type": "code",
   "execution_count": 7,
   "metadata": {},
   "outputs": [
    {
     "data": {
      "text/plain": [
       "(OrderedDict([('sepal_length',\n",
       "               <tf.Tensor: id=60, shape=(32,), dtype=float32, numpy=\n",
       "               array([6. , 7.7, 4.6, 4.9, 5. , 5. , 6.1, 6.9, 6.5, 5.7, 4.9, 6.4, 5.4,\n",
       "                      6.3, 5.6, 4.7, 6.4, 4.9, 6.9, 7.2, 7.2, 5.1, 5.4, 5.3, 6.7, 5. ,\n",
       "                      7.4, 7.6, 5.1, 6.3, 4.8, 4.8], dtype=float32)>),\n",
       "              ('sepal_width',\n",
       "               <tf.Tensor: id=61, shape=(32,), dtype=float32, numpy=\n",
       "               array([3. , 2.8, 3.4, 3.1, 2.3, 3.4, 2.8, 3.1, 3. , 4.4, 3.1, 3.2, 3.9,\n",
       "                      2.5, 2.5, 3.2, 2.8, 3.1, 3.1, 3.6, 3.2, 3.8, 3.9, 3.7, 3.3, 3.6,\n",
       "                      2.8, 3. , 3.8, 3.4, 3. , 3. ], dtype=float32)>),\n",
       "              ('petal_length',\n",
       "               <tf.Tensor: id=58, shape=(32,), dtype=float32, numpy=\n",
       "               array([4.8, 6.7, 1.4, 1.5, 3.3, 1.5, 4.7, 5.1, 5.5, 1.5, 1.5, 5.3, 1.7,\n",
       "                      5. , 3.9, 1.6, 5.6, 1.5, 4.9, 6.1, 6. , 1.5, 1.3, 1.5, 5.7, 1.4,\n",
       "                      6.1, 6.6, 1.9, 5.6, 1.4, 1.4], dtype=float32)>),\n",
       "              ('petal_width',\n",
       "               <tf.Tensor: id=59, shape=(32,), dtype=float32, numpy=\n",
       "               array([1.8, 2. , 0.3, 0.1, 1. , 0.2, 1.2, 2.3, 1.8, 0.4, 0.1, 2.3, 0.4,\n",
       "                      1.9, 1.1, 0.2, 2.2, 0.1, 1.5, 2.5, 1.8, 0.3, 0.4, 0.2, 2.1, 0.2,\n",
       "                      1.9, 2.1, 0.4, 2.4, 0.3, 0.1], dtype=float32)>)]),\n",
       " <tf.Tensor: id=62, shape=(32,), dtype=int32, numpy=\n",
       " array([2, 2, 0, 0, 1, 0, 1, 2, 2, 0, 0, 2, 0, 2, 1, 0, 2, 0, 1, 2, 2, 0,\n",
       "        0, 0, 2, 0, 2, 2, 0, 2, 0, 0])>)"
      ]
     },
     "execution_count": 7,
     "metadata": {},
     "output_type": "execute_result"
    }
   ],
   "source": [
    "features,labels = next(iter(train_dataset))\n",
    "\n",
    "features,labels"
   ]
  },
  {
   "cell_type": "code",
   "execution_count": 8,
   "metadata": {},
   "outputs": [
    {
     "data": {
      "image/png": "[encoded data removed]",
      "text/plain": [
       "<Figure size 432x288 with 1 Axes>"
      ]
     },
     "metadata": {},
     "output_type": "display_data"
    }
   ],
   "source": [
    "plt.scatter(features['petal_length'],\n",
    "            features['sepal_length'],\n",
    "            c=labels,\n",
    "            cmap='viridis')\n",
    "\n",
    "plt.xlabel(\"Petal length\")\n",
    "plt.ylabel(\"Sepal length\");"
   ]
  },
  {
   "cell_type": "raw",
   "metadata": {},
   "source": [
    "要简化模型构建步骤，请创建一个函数以将要素字典重新打包为具有形状的单个数组：(batch_size, num_features)。\n",
    "\n",
    "此函数使用tf.stack方法，该方法从张量列表中获取值，并在指定维度创建组合张量。"
   ]
  },
  {
   "cell_type": "code",
   "execution_count": 9,
   "metadata": {},
   "outputs": [],
   "source": [
    "def pack_features_vector(features,labels):\n",
    "    features = tf.stack(list(features.values()),axis=1)\n",
    "    return features,labels"
   ]
  },
  {
   "cell_type": "raw",
   "metadata": {},
   "source": [
    "Stacks a list of rank-`R` tensors into one rank-`(R+1)` tensor.\n",
    "\n",
    "Packs the list of tensors in `values` into a tensor with rank one higher than\n",
    "each tensor in `values`, by packing them along the `axis` dimension.\n",
    "Given a list of length `N` of tensors of shape `(A, B, C)`;\n",
    "\n",
    "if `axis == 0` then the `output` tensor will have the shape `(N, A, B, C)`.\n",
    "if `axis == 1` then the `output` tensor will have the shape `(A, N, B, C)`.\n",
    "Etc.\n",
    "\n",
    "For example:\n",
    "\n",
    "```python\n",
    "x = tf.constant([1, 4])\n",
    "y = tf.constant([2, 5])\n",
    "z = tf.constant([3, 6])\n",
    "tf.stack([x, y, z])  # [[1, 4], [2, 5], [3, 6]] (Pack along first dim.)\n",
    "tf.stack([x, y, z], axis=1)  # [[1, 2, 3], [4, 5, 6]]\n",
    "```"
   ]
  },
  {
   "cell_type": "raw",
   "metadata": {},
   "source": [
    "使用tf.data.Dataset.map方法将features每(features,label)对包装到训练数据集中："
   ]
  },
  {
   "cell_type": "code",
   "execution_count": 10,
   "metadata": {},
   "outputs": [],
   "source": [
    "train_dataset = train_dataset.map(pack_features_vector)"
   ]
  },
  {
   "cell_type": "raw",
   "metadata": {},
   "source": [
    "Maps `map_func` across the elements of this dataset.\n",
    "\n",
    "This transformation applies `map_func` to each element of this dataset, and\n",
    "returns a new dataset containing the transformed elements, in the same\n",
    "order as they appeared in the input.\n",
    "\n",
    "For example:\n",
    "\n",
    "```python\n",
    "# NOTE: The following examples use `{ ... }` to represent the\n",
    "# contents of a dataset.\n",
    "a = { 1, 2, 3, 4, 5 }\n",
    "\n",
    "a.map(lambda x: x + 1) = { 2, 3, 4, 5, 6 }\n",
    "```"
   ]
  },
  {
   "cell_type": "code",
   "execution_count": 11,
   "metadata": {},
   "outputs": [
    {
     "name": "stdout",
     "output_type": "stream",
     "text": [
      "tf.Tensor(\n",
      "[[6.  2.2 5.  1.5]\n",
      " [5.  3.2 1.2 0.2]\n",
      " [4.7 3.2 1.6 0.2]\n",
      " [5.2 2.7 3.9 1.4]\n",
      " [5.8 4.  1.2 0.2]], shape=(5, 4), dtype=float32)\n"
     ]
    }
   ],
   "source": [
    "features,labels = next(iter(train_dataset))\n",
    "\n",
    "print(features[:5])"
   ]
  },
  {
   "cell_type": "markdown",
   "metadata": {},
   "source": [
    "## 使用Kears创建模型"
   ]
  },
  {
   "cell_type": "code",
   "execution_count": 12,
   "metadata": {},
   "outputs": [],
   "source": [
    "model = tf.keras.Sequential([\n",
    "    tf.keras.layers.Dense(10,activation=tf.nn.relu,input_shape=(4,)),\n",
    "    tf.keras.layers.Dense(10,activation=tf.nn.relu),\n",
    "    tf.keras.layers.Dense(3)\n",
    "])"
   ]
  },
  {
   "cell_type": "markdown",
   "metadata": {},
   "source": [
    "## 使用该模型"
   ]
  },
  {
   "cell_type": "code",
   "execution_count": 13,
   "metadata": {},
   "outputs": [
    {
     "data": {
      "text/plain": [
       "<tf.Tensor: id=216, shape=(5, 3), dtype=float32, numpy=\n",
       "array([[-0.6776236 , -0.4149679 , -1.2987282 ],\n",
       "       [-0.30472076, -0.66517675, -0.58320355],\n",
       "       [-0.31400746, -0.4691741 , -0.6074594 ],\n",
       "       [-0.60936826, -0.34309918, -1.0163167 ],\n",
       "       [-0.34860212, -0.76182985, -0.6327324 ]], dtype=float32)>"
      ]
     },
     "execution_count": 13,
     "metadata": {},
     "output_type": "execute_result"
    }
   ],
   "source": [
    "predictions = model(features)\n",
    "predictions[:5]"
   ]
  },
  {
   "cell_type": "code",
   "execution_count": 14,
   "metadata": {},
   "outputs": [
    {
     "data": {
      "text/plain": [
       "<tf.Tensor: id=222, shape=(5, 3), dtype=float32, numpy=\n",
       "array([[0.35239437, 0.45824623, 0.18935932],\n",
       "       [0.4074499 , 0.28413856, 0.3084116 ],\n",
       "       [0.384326  , 0.32908776, 0.28658617],\n",
       "       [0.33661366, 0.43930984, 0.2240765 ],\n",
       "       [0.41421926, 0.27401084, 0.3117698 ]], dtype=float32)>"
      ]
     },
     "execution_count": 14,
     "metadata": {},
     "output_type": "execute_result"
    }
   ],
   "source": [
    "tf.nn.softmax(predictions[:5])"
   ]
  },
  {
   "cell_type": "code",
   "execution_count": 15,
   "metadata": {},
   "outputs": [
    {
     "name": "stdout",
     "output_type": "stream",
     "text": [
      "Prediction: [1 0 0 1 0 1 0 0 1 1 0 1 1 1 1 1 1 1 1 1 1 0 1 1 1 0 0 1 1 0 0 1]\n",
      "    Labels: [2 0 0 1 0 2 0 0 2 2 0 2 1 1 2 1 2 1 2 2 2 0 2 1 2 0 0 1 1 0 0 2]\n"
     ]
    }
   ],
   "source": [
    "print(\"Prediction: {}\".format(tf.argmax(predictions, axis=1)))\n",
    "print(\"    Labels: {}\".format(labels))"
   ]
  },
  {
   "cell_type": "markdown",
   "metadata": {},
   "source": [
    "## 训练模型"
   ]
  },
  {
   "cell_type": "markdown",
   "metadata": {},
   "source": [
    "### 定义损失和梯度函数"
   ]
  },
  {
   "cell_type": "code",
   "execution_count": 16,
   "metadata": {},
   "outputs": [
    {
     "name": "stdout",
     "output_type": "stream",
     "text": [
      "Loss test:1.2252798080444336\n"
     ]
    }
   ],
   "source": [
    "def loss(model,x,y):\n",
    "    y_ = model(x)\n",
    "    return tf.losses.sparse_softmax_cross_entropy(labels=y,logits=y_)\n",
    "\n",
    "l = loss(model,features,labels)\n",
    "print('Loss test:{}'.format(l))"
   ]
  },
  {
   "cell_type": "raw",
   "metadata": {},
   "source": [
    "使用tf.GradientTape上下文计算用于优化模型的梯度"
   ]
  },
  {
   "cell_type": "code",
   "execution_count": 17,
   "metadata": {},
   "outputs": [],
   "source": [
    "def grad(model,inputs,targets):\n",
    "    with tf.GradientTape() as tape:\n",
    "        loss_value = loss(model,inputs,targets)\n",
    "    return loss_value,tape.gradient(loss_value,model.trainable_variables)"
   ]
  },
  {
   "cell_type": "markdown",
   "metadata": {},
   "source": [
    "### 创建优化器"
   ]
  },
  {
   "cell_type": "markdown",
   "metadata": {},
   "source": [
    "<img src=\"opt1.gif\" style=\"width:620px;height:480px;\">"
   ]
  },
  {
   "cell_type": "raw",
   "metadata": {},
   "source": [
    "设置优化器和global_step计数器"
   ]
  },
  {
   "cell_type": "code",
   "execution_count": 18,
   "metadata": {},
   "outputs": [],
   "source": [
    "optimizer = tf.train.GradientDescentOptimizer(learning_rate=0.01)\n",
    "global_step = tf.train.get_or_create_global_step()"
   ]
  },
  {
   "cell_type": "code",
   "execution_count": 19,
   "metadata": {},
   "outputs": [
    {
     "name": "stdout",
     "output_type": "stream",
     "text": [
      "Step:0,Initial Loss:1.2252798080444336\n",
      "step:1,          Loss:1.08536958694458\n"
     ]
    }
   ],
   "source": [
    "loss_value,grads = grad(model,features,labels)\n",
    "\n",
    "print(\"Step:{},Initial Loss:{}\".format(global_step.numpy(),loss_value.numpy()))\n",
    "optimizer.apply_gradients(zip(grads,model.variables),global_step)\n",
    "\n",
    "print(\"step:{},          Loss:{}\".format(global_step.numpy(),loss(model,features,labels).numpy()))"
   ]
  },
  {
   "cell_type": "markdown",
   "metadata": {},
   "source": [
    "## 循环训练"
   ]
  },
  {
   "cell_type": "code",
   "execution_count": 20,
   "metadata": {},
   "outputs": [
    {
     "name": "stdout",
     "output_type": "stream",
     "text": [
      "Epoch 000: Loss: 1.054, Accuracy: 34.167%\n",
      "Epoch 050: Loss: 0.397, Accuracy: 90.833%\n",
      "Epoch 100: Loss: 0.260, Accuracy: 97.500%\n",
      "Epoch 150: Loss: 0.173, Accuracy: 96.667%\n",
      "Epoch 200: Loss: 0.137, Accuracy: 98.333%\n"
     ]
    }
   ],
   "source": [
    "# keep results for plotting\n",
    "train_loss_results = []\n",
    "train_accuracy_results = []\n",
    "\n",
    "num_epochs = 201\n",
    "\n",
    "for epoch in range(num_epochs):\n",
    "    epoch_loss_avg = tfe.metrics.Mean()\n",
    "    epoch_accuracy = tfe.metrics.Accuracy()\n",
    "    \n",
    "    # Training loop - using batches of 32\n",
    "    for x,y in train_dataset:\n",
    "        loss_value,grads = grad(model,x,y)\n",
    "        optimizer.apply_gradients(zip(grads,model.variables),\n",
    "                                 global_step)\n",
    "        #跟踪训练进程\n",
    "        epoch_loss_avg(loss_value) # add current batch loss\n",
    "        # compare predicted label to actual label\n",
    "        epoch_accuracy(tf.argmax(model(x),axis=1,output_type=tf.int32),y)\n",
    "\n",
    "        #end epoch\n",
    "        train_loss_results.append(epoch_loss_avg.result())\n",
    "        train_accuracy_results.append(epoch_accuracy.result())\n",
    "    \n",
    "    if epoch % 50 == 0:\n",
    "        print(\"Epoch {:03d}: Loss: {:.3f}, Accuracy: {:.3%}\".format(epoch,\n",
    "                                                                epoch_loss_avg.result(),\n",
    "                                                                epoch_accuracy.result()))"
   ]
  },
  {
   "cell_type": "markdown",
   "metadata": {},
   "source": [
    "## 随着时间的推移可视化损失函数"
   ]
  },
  {
   "cell_type": "code",
   "execution_count": 21,
   "metadata": {},
   "outputs": [
    {
     "data": {
      "text/plain": [
       "[<matplotlib.lines.Line2D at 0x1b9325b4438>]"
      ]
     },
     "execution_count": 21,
     "metadata": {},
     "output_type": "execute_result"
    },
    {
     "data": {
      "image/png": "[encoded data removed]",
      "text/plain": [
       "<Figure size 864x576 with 2 Axes>"
      ]
     },
     "metadata": {},
     "output_type": "display_data"
    }
   ],
   "source": [
    "fig, axes = plt.subplots(2, sharex=True, figsize=(12, 8))\n",
    "fig.suptitle(\"Training Metrics\")\n",
    "\n",
    "axes[0].set_ylabel(\"Loss\",fontsize = 14)\n",
    "axes[0].plot(train_loss_results)\n",
    "\n",
    "axes[1].set_ylabel(\"Accuracy\",fontsize=14)\n",
    "axes[1].set_xlabel(\"Epoch\",fontsize=14)\n",
    "axes[1].plot(train_accuracy_results)"
   ]
  },
  {
   "cell_type": "code",
   "execution_count": null,
   "metadata": {},
   "outputs": [],
   "source": [
    "\n",
    "\n"
   ]
  },
  {
   "cell_type": "code",
   "execution_count": null,
   "metadata": {},
   "outputs": [],
   "source": []
  },
  {
   "cell_type": "code",
   "execution_count": null,
   "metadata": {},
   "outputs": [],
   "source": []
  },
  {
   "cell_type": "code",
   "execution_count": null,
   "metadata": {},
   "outputs": [],
   "source": []
  }
 ],
 "metadata": {
  "kernelspec": {
   "display_name": "Python 3",
   "language": "python",
   "name": "python3"
  },
  "language_info": {
   "codemirror_mode": {
    "name": "ipython",
    "version": 3
   },
   "file_extension": ".py",
   "mimetype": "text/x-python",
   "name": "python",
   "nbconvert_exporter": "python",
   "pygments_lexer": "ipython3",
   "version": "3.6.5"
  }
 },
 "nbformat": 4,
 "nbformat_minor": 2
}
