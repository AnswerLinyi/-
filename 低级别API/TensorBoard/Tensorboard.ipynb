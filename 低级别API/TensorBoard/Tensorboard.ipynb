{
 "cells": [
  {
   "cell_type": "markdown",
   "metadata": {},
   "source": [
    "## 导入库"
   ]
  },
  {
   "cell_type": "code",
   "execution_count": 1,
   "metadata": {},
   "outputs": [
    {
     "name": "stderr",
     "output_type": "stream",
     "text": [
      "D:\\Anaconda\\lib\\site-packages\\h5py\\__init__.py:36: FutureWarning: Conversion of the second argument of issubdtype from `float` to `np.floating` is deprecated. In future, it will be treated as `np.float64 == np.dtype(float).type`.\n",
      "  from ._conv import register_converters as _register_converters\n"
     ]
    },
    {
     "data": {
      "text/plain": [
       "'1.10.0'"
      ]
     },
     "execution_count": 1,
     "metadata": {},
     "output_type": "execute_result"
    }
   ],
   "source": [
    "import tensorflow as tf\n",
    "import numpy as np\n",
    "from tensorflow.examples.tutorials.mnist import input_data\n",
    "import os\n",
    "tf.__version__"
   ]
  },
  {
   "cell_type": "markdown",
   "metadata": {},
   "source": [
    "## 加载数据"
   ]
  },
  {
   "cell_type": "code",
   "execution_count": 2,
   "metadata": {},
   "outputs": [
    {
     "name": "stdout",
     "output_type": "stream",
     "text": [
      "WARNING:tensorflow:From <ipython-input-2-236e512337c0>:1: read_data_sets (from tensorflow.contrib.learn.python.learn.datasets.mnist) is deprecated and will be removed in a future version.\n",
      "Instructions for updating:\n",
      "Please use alternatives such as official/mnist/dataset.py from tensorflow/models.\n",
      "WARNING:tensorflow:From D:\\Anaconda\\lib\\site-packages\\tensorflow\\contrib\\learn\\python\\learn\\datasets\\mnist.py:260: maybe_download (from tensorflow.contrib.learn.python.learn.datasets.base) is deprecated and will be removed in a future version.\n",
      "Instructions for updating:\n",
      "Please write your own downloading logic.\n",
      "WARNING:tensorflow:From D:\\Anaconda\\lib\\site-packages\\tensorflow\\contrib\\learn\\python\\learn\\datasets\\mnist.py:262: extract_images (from tensorflow.contrib.learn.python.learn.datasets.mnist) is deprecated and will be removed in a future version.\n",
      "Instructions for updating:\n",
      "Please use tf.data to implement this functionality.\n",
      "Extracting /mnist_data\\train-images-idx3-ubyte.gz\n",
      "WARNING:tensorflow:From D:\\Anaconda\\lib\\site-packages\\tensorflow\\contrib\\learn\\python\\learn\\datasets\\mnist.py:267: extract_labels (from tensorflow.contrib.learn.python.learn.datasets.mnist) is deprecated and will be removed in a future version.\n",
      "Instructions for updating:\n",
      "Please use tf.data to implement this functionality.\n",
      "Extracting /mnist_data\\train-labels-idx1-ubyte.gz\n",
      "WARNING:tensorflow:From D:\\Anaconda\\lib\\site-packages\\tensorflow\\contrib\\learn\\python\\learn\\datasets\\mnist.py:110: dense_to_one_hot (from tensorflow.contrib.learn.python.learn.datasets.mnist) is deprecated and will be removed in a future version.\n",
      "Instructions for updating:\n",
      "Please use tf.one_hot on tensors.\n",
      "Extracting /mnist_data\\t10k-images-idx3-ubyte.gz\n",
      "Extracting /mnist_data\\t10k-labels-idx1-ubyte.gz\n",
      "WARNING:tensorflow:From D:\\Anaconda\\lib\\site-packages\\tensorflow\\contrib\\learn\\python\\learn\\datasets\\mnist.py:290: DataSet.__init__ (from tensorflow.contrib.learn.python.learn.datasets.mnist) is deprecated and will be removed in a future version.\n",
      "Instructions for updating:\n",
      "Please use alternatives such as official/mnist/dataset.py from tensorflow/models.\n"
     ]
    }
   ],
   "source": [
    "mnist = input_data.read_data_sets('/mnist_data',one_hot=True)"
   ]
  },
  {
   "cell_type": "markdown",
   "metadata": {},
   "source": [
    "## 建立会话"
   ]
  },
  {
   "cell_type": "code",
   "execution_count": 3,
   "metadata": {},
   "outputs": [],
   "source": [
    "sess = tf.InteractiveSession()"
   ]
  },
  {
   "cell_type": "markdown",
   "metadata": {},
   "source": [
    "## summary"
   ]
  },
  {
   "cell_type": "code",
   "execution_count": 4,
   "metadata": {},
   "outputs": [],
   "source": [
    "def summary(var):\n",
    "    with tf.name_scope(name='summaries'):\n",
    "        mean = tf.reduce_mean(var)\n",
    "        tf.summary.scalar('mean',mean)#平均值\n",
    "        with tf.name_scope('stddev'):\n",
    "            stddev = tf.sqrt(tf.reduce_mean(tf.square(var - mean)))\n",
    "        tf.summary.scalar('stddev',stddev)#标准差\n",
    "        tf.summary.scalar('max',tf.reduce_max(var))#最大值\n",
    "        tf.summary.scalar('min',tf.reduce_min(var))#最小值\n",
    "        tf.summary.histogram('histogram',var)#直方图        "
   ]
  },
  {
   "cell_type": "markdown",
   "metadata": {},
   "source": [
    "## 占位符"
   ]
  },
  {
   "cell_type": "code",
   "execution_count": 5,
   "metadata": {},
   "outputs": [],
   "source": [
    "with tf.name_scope(name='inputs'):\n",
    "    x = tf.placeholder(dtype=tf.float32,shape=[None,784],name=\"inputs-x\")\n",
    "    y = tf.placeholder(dtype=tf.float32,shape=[None,10],name='inputs-y')\n",
    "#显示图片\n",
    "with tf.name_scope('input_reshape'):\n",
    "    image_shaped_input = tf.reshape(x, [-1, 28, 28, 1])\n",
    "    tf.summary.image('input', image_shaped_input, 10)"
   ]
  },
  {
   "cell_type": "markdown",
   "metadata": {},
   "source": [
    "## 变量"
   ]
  },
  {
   "cell_type": "code",
   "execution_count": 6,
   "metadata": {},
   "outputs": [],
   "source": [
    "with tf.name_scope(name='layers'):\n",
    "    with tf.name_scope(name = 'weight_var'):\n",
    "        w = tf.Variable(tf.truncated_normal(shape=[784,10],stddev=0.1))\n",
    "        summary(w)\n",
    "    with tf.name_scope(name = 'biases_var'):\n",
    "        b = tf.Variable(tf.zeros(shape=[10]))\n",
    "        summary(b)\n",
    "    with tf.name_scope(name='wx_plus_b'):\n",
    "        wx_plus_b = tf.matmul(x,w) + b\n",
    "    with tf.name_scope('softmax'):\n",
    "        prediction = tf.nn.softmax(wx_plus_b)"
   ]
  },
  {
   "cell_type": "markdown",
   "metadata": {},
   "source": [
    "## 损失函数"
   ]
  },
  {
   "cell_type": "code",
   "execution_count": 7,
   "metadata": {},
   "outputs": [
    {
     "name": "stdout",
     "output_type": "stream",
     "text": [
      "WARNING:tensorflow:From <ipython-input-7-afa7a55f9c25>:2: softmax_cross_entropy_with_logits (from tensorflow.python.ops.nn_ops) is deprecated and will be removed in a future version.\n",
      "Instructions for updating:\n",
      "\n",
      "Future major versions of TensorFlow will allow gradients to flow\n",
      "into the labels input on backprop by default.\n",
      "\n",
      "See @{tf.nn.softmax_cross_entropy_with_logits_v2}.\n",
      "\n"
     ]
    }
   ],
   "source": [
    "with tf.name_scope('loss'):\n",
    "    loss = tf.reduce_mean(tf.nn.softmax_cross_entropy_with_logits(labels=y,logits=prediction))\n",
    "    tf.summary.scalar('loss',loss)"
   ]
  },
  {
   "cell_type": "markdown",
   "metadata": {},
   "source": [
    "## 训练模型"
   ]
  },
  {
   "cell_type": "code",
   "execution_count": 8,
   "metadata": {},
   "outputs": [],
   "source": [
    "with tf.name_scope('train'):\n",
    "    optimizer = tf.train.GradientDescentOptimizer(0.01).minimize(loss)"
   ]
  },
  {
   "cell_type": "markdown",
   "metadata": {},
   "source": [
    "## 初始化所有变量"
   ]
  },
  {
   "cell_type": "code",
   "execution_count": 9,
   "metadata": {},
   "outputs": [],
   "source": [
    "sess.run(tf.global_variables_initializer())"
   ]
  },
  {
   "cell_type": "markdown",
   "metadata": {},
   "source": [
    "## 概率"
   ]
  },
  {
   "cell_type": "code",
   "execution_count": 10,
   "metadata": {},
   "outputs": [],
   "source": [
    "with tf.name_scope('accuracy'):\n",
    "    with tf.name_scope('correct_prediction'):\n",
    "        correct_prediction = tf.equal(tf.argmax(y,1),tf.argmax(prediction,1))#argmax返回一维张量中最大的值所在的位置\n",
    "    with tf.name_scope('accuracy'):\n",
    "        accuracy = tf.reduce_mean(tf.cast(correct_prediction,tf.float32))\n",
    "        tf.summary.scalar('accuracy',accuracy)"
   ]
  },
  {
   "cell_type": "code",
   "execution_count": 11,
   "metadata": {},
   "outputs": [],
   "source": [
    "writer = tf.summary.FileWriter(os.getcwd()+'/writer',sess.graph)\n",
    "#合并summary\n",
    "merged = tf.summary.merge_all()"
   ]
  },
  {
   "cell_type": "code",
   "execution_count": 12,
   "metadata": {},
   "outputs": [
    {
     "name": "stdout",
     "output_type": "stream",
     "text": [
      "Iter 0, Testing Accuracy= 0.1185\n",
      "Iter 100, Testing Accuracy= 0.1736\n",
      "Iter 200, Testing Accuracy= 0.2308\n",
      "Iter 300, Testing Accuracy= 0.2985\n",
      "Iter 400, Testing Accuracy= 0.3343\n",
      "Iter 500, Testing Accuracy= 0.361\n",
      "Iter 600, Testing Accuracy= 0.3891\n",
      "Iter 700, Testing Accuracy= 0.4169\n",
      "Iter 800, Testing Accuracy= 0.4398\n",
      "Iter 900, Testing Accuracy= 0.457\n",
      "Iter 1000, Testing Accuracy= 0.4676\n",
      "Iter 1100, Testing Accuracy= 0.4732\n",
      "Iter 1200, Testing Accuracy= 0.4783\n",
      "Iter 1300, Testing Accuracy= 0.4825\n",
      "Iter 1400, Testing Accuracy= 0.4881\n",
      "Iter 1500, Testing Accuracy= 0.498\n",
      "Iter 1600, Testing Accuracy= 0.5075\n",
      "Iter 1700, Testing Accuracy= 0.5219\n",
      "Iter 1800, Testing Accuracy= 0.539\n",
      "Iter 1900, Testing Accuracy= 0.5562\n",
      "Iter 2000, Testing Accuracy= 0.5785\n",
      "Iter 2100, Testing Accuracy= 0.5919\n",
      "Iter 2200, Testing Accuracy= 0.6005\n",
      "Iter 2300, Testing Accuracy= 0.6043\n",
      "Iter 2400, Testing Accuracy= 0.6113\n",
      "Iter 2500, Testing Accuracy= 0.6143\n",
      "Iter 2600, Testing Accuracy= 0.6174\n",
      "Iter 2700, Testing Accuracy= 0.6201\n",
      "Iter 2800, Testing Accuracy= 0.6237\n",
      "Iter 2900, Testing Accuracy= 0.6257\n",
      "Iter 3000, Testing Accuracy= 0.6277\n",
      "Iter 3100, Testing Accuracy= 0.6295\n",
      "Iter 3200, Testing Accuracy= 0.6311\n",
      "Iter 3300, Testing Accuracy= 0.6334\n",
      "Iter 3400, Testing Accuracy= 0.6339\n",
      "Iter 3500, Testing Accuracy= 0.6361\n",
      "Iter 3600, Testing Accuracy= 0.638\n",
      "Iter 3700, Testing Accuracy= 0.6429\n",
      "Iter 3800, Testing Accuracy= 0.6573\n",
      "Iter 3900, Testing Accuracy= 0.6756\n",
      "Iter 4000, Testing Accuracy= 0.692\n",
      "Iter 4100, Testing Accuracy= 0.7023\n",
      "Iter 4200, Testing Accuracy= 0.7067\n",
      "Iter 4300, Testing Accuracy= 0.7106\n",
      "Iter 4400, Testing Accuracy= 0.7129\n",
      "Iter 4500, Testing Accuracy= 0.7153\n",
      "Iter 4600, Testing Accuracy= 0.7163\n",
      "Iter 4700, Testing Accuracy= 0.7183\n",
      "Iter 4800, Testing Accuracy= 0.7197\n",
      "Iter 4900, Testing Accuracy= 0.7206\n",
      "Iter 5000, Testing Accuracy= 0.7214\n",
      "Iter 5100, Testing Accuracy= 0.7226\n",
      "Iter 5200, Testing Accuracy= 0.7232\n",
      "Iter 5300, Testing Accuracy= 0.7239\n",
      "Iter 5400, Testing Accuracy= 0.725\n",
      "Iter 5500, Testing Accuracy= 0.7269\n",
      "Iter 5600, Testing Accuracy= 0.7279\n",
      "Iter 5700, Testing Accuracy= 0.729\n",
      "Iter 5800, Testing Accuracy= 0.7299\n",
      "Iter 5900, Testing Accuracy= 0.7302\n",
      "Iter 6000, Testing Accuracy= 0.731\n",
      "Iter 6100, Testing Accuracy= 0.7315\n",
      "Iter 6200, Testing Accuracy= 0.7323\n",
      "Iter 6300, Testing Accuracy= 0.7327\n",
      "Iter 6400, Testing Accuracy= 0.7325\n",
      "Iter 6500, Testing Accuracy= 0.7337\n",
      "Iter 6600, Testing Accuracy= 0.7338\n",
      "Iter 6700, Testing Accuracy= 0.7341\n",
      "Iter 6800, Testing Accuracy= 0.7346\n",
      "Iter 6900, Testing Accuracy= 0.7355\n",
      "Iter 7000, Testing Accuracy= 0.7359\n",
      "Iter 7100, Testing Accuracy= 0.7385\n",
      "Iter 7200, Testing Accuracy= 0.7408\n",
      "Iter 7300, Testing Accuracy= 0.744\n",
      "Iter 7400, Testing Accuracy= 0.7492\n",
      "Iter 7500, Testing Accuracy= 0.7591\n",
      "Iter 7600, Testing Accuracy= 0.7697\n",
      "Iter 7700, Testing Accuracy= 0.7824\n",
      "Iter 7800, Testing Accuracy= 0.7912\n",
      "Iter 7900, Testing Accuracy= 0.7973\n",
      "Iter 8000, Testing Accuracy= 0.8003\n",
      "Iter 8100, Testing Accuracy= 0.8016\n",
      "Iter 8200, Testing Accuracy= 0.8035\n",
      "Iter 8300, Testing Accuracy= 0.8043\n",
      "Iter 8400, Testing Accuracy= 0.806\n",
      "Iter 8500, Testing Accuracy= 0.807\n",
      "Iter 8600, Testing Accuracy= 0.8083\n",
      "Iter 8700, Testing Accuracy= 0.8096\n",
      "Iter 8800, Testing Accuracy= 0.8103\n",
      "Iter 8900, Testing Accuracy= 0.8108\n",
      "Iter 9000, Testing Accuracy= 0.8119\n",
      "Iter 9100, Testing Accuracy= 0.8122\n",
      "Iter 9200, Testing Accuracy= 0.8131\n",
      "Iter 9300, Testing Accuracy= 0.8136\n",
      "Iter 9400, Testing Accuracy= 0.8144\n",
      "Iter 9500, Testing Accuracy= 0.8146\n",
      "Iter 9600, Testing Accuracy= 0.8147\n",
      "Iter 9700, Testing Accuracy= 0.8146\n",
      "Iter 9800, Testing Accuracy= 0.8157\n",
      "Iter 9900, Testing Accuracy= 0.8157\n"
     ]
    }
   ],
   "source": [
    "for i in  range(10000):\n",
    "    batch_xs,batch_ys = mnist.train.next_batch(50)\n",
    "    summary,_ = sess.run([merged,optimizer],feed_dict={x:batch_xs,y:batch_ys})\n",
    "    writer.add_summary(summary,i)\n",
    "    \n",
    "    if i % 100 == 0:\n",
    "        acc = sess.run(accuracy,feed_dict={x:mnist.test.images,y:mnist.test.labels})\n",
    "        print (\"Iter \" + str(i) + \", Testing Accuracy= \" + str(acc))\n",
    "writer.close()\n",
    "sess.close()"
   ]
  },
  {
   "cell_type": "code",
   "execution_count": null,
   "metadata": {},
   "outputs": [],
   "source": []
  },
  {
   "cell_type": "code",
   "execution_count": null,
   "metadata": {},
   "outputs": [],
   "source": []
  }
 ],
 "metadata": {
  "kernelspec": {
   "display_name": "Python 3",
   "language": "python",
   "name": "python3"
  },
  "language_info": {
   "codemirror_mode": {
    "name": "ipython",
    "version": 3
   },
   "file_extension": ".py",
   "mimetype": "text/x-python",
   "name": "python",
   "nbconvert_exporter": "python",
   "pygments_lexer": "ipython3",
   "version": "3.6.5"
  }
 },
 "nbformat": 4,
 "nbformat_minor": 2
}
