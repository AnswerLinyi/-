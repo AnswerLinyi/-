{
 "cells": [
  {
   "cell_type": "code",
   "execution_count": 2,
   "metadata": {},
   "outputs": [
    {
     "data": {
      "text/plain": [
       "'1.10.0'"
      ]
     },
     "execution_count": 2,
     "metadata": {},
     "output_type": "execute_result"
    }
   ],
   "source": [
    "import tensorflow as tf\n",
    "tfe = tf.contrib.eager\n",
    "\n",
    "tf.enable_eager_execution()\n",
    "tf.__version__"
   ]
  },
  {
   "cell_type": "markdown",
   "metadata": {},
   "source": [
    "## 变量\n",
    "TensorFlow中的张量是不可变的无状态对象。 然而，机器学习模型需要具有变化状态：随着模型训练，计算预测的相同代码应该随着时间的推移而表现不同（希望具有较低的损失！）。 要表示需要在计算过程中进行更改的状态，您可以选择依赖Python是一种有状态编程语言的事实："
   ]
  },
  {
   "cell_type": "code",
   "execution_count": 3,
   "metadata": {},
   "outputs": [
    {
     "name": "stdout",
     "output_type": "stream",
     "text": [
      "tf.Tensor(\n",
      "[[2. 2. 2. 2. 2. 2. 2. 2. 2. 2.]\n",
      " [2. 2. 2. 2. 2. 2. 2. 2. 2. 2.]\n",
      " [2. 2. 2. 2. 2. 2. 2. 2. 2. 2.]\n",
      " [2. 2. 2. 2. 2. 2. 2. 2. 2. 2.]\n",
      " [2. 2. 2. 2. 2. 2. 2. 2. 2. 2.]\n",
      " [2. 2. 2. 2. 2. 2. 2. 2. 2. 2.]\n",
      " [2. 2. 2. 2. 2. 2. 2. 2. 2. 2.]\n",
      " [2. 2. 2. 2. 2. 2. 2. 2. 2. 2.]\n",
      " [2. 2. 2. 2. 2. 2. 2. 2. 2. 2.]\n",
      " [2. 2. 2. 2. 2. 2. 2. 2. 2. 2.]], shape=(10, 10), dtype=float32)\n"
     ]
    }
   ],
   "source": [
    "x = tf.zeros([10,10])\n",
    "x += 2\n",
    "print(x)"
   ]
  },
  {
   "cell_type": "markdown",
   "metadata": {},
   "source": [
    "但是，TensorFlow内置了有状态操作，这些操作的效果通常比低级Python表示更好。 例如，为了表示模型中的权重，使用TensorFlow变量通常是方便有效的。\n",
    "\n",
    "变量是一个存储值的对象，当在TensorFlow计算中使用时，它将隐式地从该存储值中读取。 有操作（tf.assign_sub，tf.scatter_update等）操作存储在TensorFlow变量中的值。"
   ]
  },
  {
   "cell_type": "code",
   "execution_count": 5,
   "metadata": {},
   "outputs": [],
   "source": [
    "v = tfe.Variable(1.0)\n",
    "assert v.numpy() == 1.0\n",
    "\n",
    "v.assign(3.0)\n",
    "assert v.numpy() == 3.0\n",
    "\n",
    "v.assign(tf.square(v))\n",
    "assert v.numpy() == 9.0"
   ]
  },
  {
   "cell_type": "markdown",
   "metadata": {},
   "source": [
    "## 示例：拟合线性模型\n",
    "\n",
    "现在让我们把我们迄今为止的几个概念--- Tensor，GradientTape，Variable ---构建并训练一个简单的模型。 这通常涉及几个步骤：\n",
    "\n",
    "- 定义模型。\n",
    "- 定义损失函数。\n",
    "- 获取训练数据。\n",
    "- 运行训练数据并使用“优化器”调整变量以适合数据。\n",
    "\n",
    "在本教程中，我们将介绍简单线性模型的一个简单示例：f（x）= x * W + b，它有两个变量 - W和b。 此外，我们将合成数据，使训练有素的模型具有W = 3.0和b = 2.0。"
   ]
  },
  {
   "cell_type": "markdown",
   "metadata": {},
   "source": [
    "### Define the model"
   ]
  },
  {
   "cell_type": "code",
   "execution_count": 9,
   "metadata": {},
   "outputs": [],
   "source": [
    "class Model():\n",
    "    def __init__(self):\n",
    "        self.W = tfe.Variable(5.0)\n",
    "        self.b = tfe.Variable(0.0)\n",
    "    def __call__(self,x):\n",
    "        return self.W*x + self.b\n",
    "    \n",
    "model = Model()\n",
    "print(model(3.0).numpy())\n",
    "assert model(3.0).numpy() == 15.0"
   ]
  },
  {
   "cell_type": "markdown",
   "metadata": {},
   "source": [
    "### Define a loss function"
   ]
  },
  {
   "cell_type": "code",
   "execution_count": 10,
   "metadata": {},
   "outputs": [],
   "source": [
    "def loss(predicted_y,desired_y):\n",
    "    return tf.reduce_mean(tf.square(predicted_y-desired_y))"
   ]
  },
  {
   "cell_type": "markdown",
   "metadata": {},
   "source": [
    "### Obtain training data\n",
    "让我们用一些噪音合成训练数据。"
   ]
  },
  {
   "cell_type": "code",
   "execution_count": 11,
   "metadata": {},
   "outputs": [],
   "source": [
    "TRUE_W = 3.0\n",
    "TRUE_b = 2.0\n",
    "NUM_EXAMPLES = 1000\n",
    "\n",
    "inputs = tf.random_normal(shape=[NUM_EXAMPLES])\n",
    "noise = tf.random_normal(shape=[NUM_EXAMPLES])\n",
    "outputs = inputs*TRUE_W +  TRUE_b + noise"
   ]
  },
  {
   "cell_type": "code",
   "execution_count": 13,
   "metadata": {},
   "outputs": [
    {
     "data": {
      "image/png": "[encoded data removed]",
      "text/plain": [
       "<Figure size 432x288 with 1 Axes>"
      ]
     },
     "metadata": {},
     "output_type": "display_data"
    },
    {
     "name": "stdout",
     "output_type": "stream",
     "text": [
      "Current loss; \n",
      "8.720176\n"
     ]
    }
   ],
   "source": [
    "import matplotlib.pyplot as plt\n",
    "\n",
    "plt.scatter(inputs,outputs,c='b')\n",
    "plt.scatter(inputs,model(inputs),c='r')\n",
    "plt.show()\n",
    "\n",
    "print('Current loss; ')\n",
    "print(loss(model(inputs),outputs).numpy())"
   ]
  },
  {
   "cell_type": "markdown",
   "metadata": {},
   "source": [
    "## 定义训练循环\n",
    "我们现在拥有我们的网络和培训数据。 让我们训练它，即使用训练数据来更新模型的变量（W和b），以便使用梯度下降来减少损失。 在tf.train.Optimizer实现中捕获了许多梯度下降方案的变体。 我们强烈建议使用这些实现，但本着从第一原则构建的精神，在这个特定的例子中，我们将自己实现基本的数学。"
   ]
  },
  {
   "cell_type": "code",
   "execution_count": 18,
   "metadata": {},
   "outputs": [],
   "source": [
    "def train(model,inputs,outputs,learning_rate=0.1):\n",
    "    with tf.GradientTape() as t:\n",
    "        current_loss = loss(model(inputs),outputs)\n",
    "    dW,db = t.gradient(current_loss,[model.W,model.b])\n",
    "    model.W.assign_sub(learning_rate * dW)\n",
    "    model.b.assign_sub(learning_rate * db)"
   ]
  },
  {
   "cell_type": "code",
   "execution_count": 19,
   "metadata": {},
   "outputs": [
    {
     "name": "stdout",
     "output_type": "stream",
     "text": [
      "Epoch  0: W=5.00 b=0.00, loss=8.72018\n",
      "Epoch  1: W=4.61 b=0.39, loss=5.98487\n",
      "Epoch  2: W=4.30 b=0.71, loss=4.22059\n",
      "Epoch  3: W=4.05 b=0.96, loss=3.08263\n",
      "Epoch  4: W=3.85 b=1.16, loss=2.34864\n",
      "Epoch  5: W=3.69 b=1.33, loss=1.87521\n",
      "Epoch  6: W=3.56 b=1.46, loss=1.56985\n",
      "Epoch  7: W=3.46 b=1.56, loss=1.37289\n",
      "Epoch  8: W=3.37 b=1.65, loss=1.24585\n",
      "Epoch  9: W=3.31 b=1.71, loss=1.16391\n"
     ]
    },
    {
     "data": {
      "image/png": "[encoded data removed]",
      "text/plain": [
       "<Figure size 432x288 with 1 Axes>"
      ]
     },
     "metadata": {},
     "output_type": "display_data"
    }
   ],
   "source": [
    "model = Model()\n",
    "# Collect the history of W-values and b-values to plot later\n",
    "Ws,bs = [],[]\n",
    "epochs = range(10)\n",
    "for epoch in epochs:\n",
    "    Ws.append(model.W.numpy())\n",
    "    bs.append(model.b.numpy())\n",
    "    current_loss = loss(model(inputs),outputs)\n",
    "    train(model,inputs,outputs,learning_rate=0.1)\n",
    "    print('Epoch %2d: W=%1.2f b=%1.2f, loss=%2.5f' %\n",
    "        (epoch, Ws[-1], bs[-1], current_loss))\n",
    "\n",
    "plt.plot(epochs,Ws,'r',epochs,bs,'b')\n",
    "plt.plot([TRUE_W]*len(epochs),'r--',\n",
    "        [TRUE_b]*len(epochs),'b--')\n",
    "plt.legend(['W','b','true W','True b'])\n",
    "plt.show()"
   ]
  },
  {
   "cell_type": "code",
   "execution_count": null,
   "metadata": {},
   "outputs": [],
   "source": []
  }
 ],
 "metadata": {
  "kernelspec": {
   "display_name": "Python 3",
   "language": "python",
   "name": "python3"
  },
  "language_info": {
   "codemirror_mode": {
    "name": "ipython",
    "version": 3
   },
   "file_extension": ".py",
   "mimetype": "text/x-python",
   "name": "python",
   "nbconvert_exporter": "python",
   "pygments_lexer": "ipython3",
   "version": "3.6.5"
  }
 },
 "nbformat": 4,
 "nbformat_minor": 2
}
