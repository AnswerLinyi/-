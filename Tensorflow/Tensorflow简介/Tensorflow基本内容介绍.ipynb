{
 "cells": [
  {
   "cell_type": "markdown",
   "metadata": {},
   "source": [
    "# TensorFlow "
   ]
  },
  {
   "cell_type": "markdown",
   "metadata": {},
   "source": [
    "## 什么是Tensorflow？"
   ]
  },
  {
   "cell_type": "markdown",
   "metadata": {},
   "source": [
    "- TensorFlow 是一个用于人工智能的开源神器\n",
    "- 是适合所有人的开放源代码机器学习框架"
   ]
  },
  {
   "cell_type": "markdown",
   "metadata": {},
   "source": [
    "在过去的两年时间，似乎每个星期，都有一家公司或其他公司都发布了自己的深度学习库。 有关当前深度学习库的非详尽列表，请访问这个网址https://en.wikipedia.org/wiki/Comparison_of_deep_learning_software。"
   ]
  },
  {
   "cell_type": "markdown",
   "metadata": {},
   "source": [
    "## Tensorflow的简介"
   ]
  },
  {
   "cell_type": "markdown",
   "metadata": {},
   "source": [
    "TensorFlow™ 是一个开放源代码软件库，用于进行高性能数值计算。借助其灵活的架构，用户可以轻松地将计算工作部署到多种平台（CPU、GPU、TPU）和设备（桌面设备、服务器集群、移动设备、边缘设备等）。TensorFlow™ 最初是由 Google Brain 团队（隶属于 Google 的 AI 部门）中的研究人员和工程师开发的，可为机器学习和深度学习提供强力支持，并且其灵活的数值计算核心广泛应用于许多其他科学领域。"
   ]
  },
  {
   "cell_type": "markdown",
   "metadata": {},
   "source": [
    "## 关于 TensorFlow（工作原理）"
   ]
  },
  {
   "cell_type": "markdown",
   "metadata": {},
   "source": [
    "TensorFlow™ 是一个采用数据流图（data flow graphs），用于数值计算的开源软件库。节点（Nodes）在图中表示数学操作，图中的线（edges）则表示在节点间相互联系的多维数据数组，即张量（tensor）"
   ]
  },
  {
   "cell_type": "markdown",
   "metadata": {},
   "source": [
    "## 什么是数据流图（Data Flow Graph）?"
   ]
  },
  {
   "cell_type": "markdown",
   "metadata": {},
   "source": [
    "数据流图用“结点”（nodes）和“线”(edges)的有向图来描述数学计算。“节点” 一般用来表示施加的数学操作，但也可以表示数据输入（feed in）的起点/输出（push out）的终点，或者是读取/写入持久变量（persistent variable）的终点。“线”表示“节点”之间的输入/输出关系。这些数据“线”可以输运“size可动态调整”的多维数据数组，即“张量”（tensor）。张量从图中流过的直观图像是这个工具取名为“Tensorflow”的原因。一旦输入端的所有张量准备好，节点将被分配到各种计算设备完成异步并行地执行运算。"
   ]
  },
  {
   "cell_type": "markdown",
   "metadata": {},
   "source": [
    "<img src=\"tensors_flowing.gif\" style=\"width:252px;height:448px;\">"
   ]
  },
  {
   "cell_type": "markdown",
   "metadata": {},
   "source": [
    "既然有这么多深度学习框架，我们为什么选择Tensorflow呢？ 对于在生产中有用的框架，它需要高效，可扩展和可维护。 对于研究，框架需要具有灵活的操作，可以以新颖的方式组合。 替代框架既可以灵活地用于研究，又可以降低可扩展性，例如Chainer和PyTorch，或者可扩展但不太灵活，例如Caffe和MXNet。 TensorFlow既灵活又可扩展，允许用户从研究到生产简化。"
   ]
  },
  {
   "cell_type": "markdown",
   "metadata": {},
   "source": [
    "## TensorFlow的特征"
   ]
  },
  {
   "cell_type": "markdown",
   "metadata": {},
   "source": [
    "- 高度的灵活性\n",
    "- 真正的可移植性（Portability）\n",
    "- 将科研和产品联系在一起"
   ]
  },
  {
   "cell_type": "markdown",
   "metadata": {},
   "source": [
    "### 高度的灵活性"
   ]
  },
  {
   "cell_type": "markdown",
   "metadata": {},
   "source": [
    "TensorFlow 不是一个严格的“神经网络”库。只要你可以将你的计算表示为一个数据流图，你就可以使用Tensorflow。你来构建图，描写驱动计算的内部循环。我们提供了有用的工具来帮助你组装“子图”（常用于神经网络），当然用户也可以自己在Tensorflow基础上写自己的“上层库”。定义顺手好用的新复合操作和写一个python函数一样容易，而且也不用担心性能损耗。当然万一你发现找不到想要的底层数据操作，你也可以自己写一点c++代码来丰富底层的操作。"
   ]
  },
  {
   "cell_type": "markdown",
   "metadata": {},
   "source": [
    "### 真正的可移植性（Portability）"
   ]
  },
  {
   "cell_type": "markdown",
   "metadata": {},
   "source": [
    "Tensorflow 在CPU和GPU上运行，比如说可以运行在台式机、服务器、手机移动设备等等。想要在没有特殊硬件的前提下，在你的笔记本上跑一下机器学习的新想法？Tensorflow可以办到这点。准备将你的训练模型在多个CPU上规模化运算，又不想修改代码？Tensorflow可以办到这点。想要将你的训练好的模型作为产品的一部分用到手机app里？Tensorflow可以办到这点。你改变主意了，想要将你的模型作为云端服务运行在自己的服务器上，或者运行在Docker容器里？Tensorfow也能办到。Tensorflow就是这么拽 :)"
   ]
  },
  {
   "cell_type": "markdown",
   "metadata": {},
   "source": [
    "### 将科研和产品联系在一起"
   ]
  },
  {
   "cell_type": "markdown",
   "metadata": {},
   "source": [
    "过去如果要将科研中的机器学习想法用到产品中，需要大量的代码重写工作。那样的日子一去不复返了！在Google，科学家用Tensorflow尝试新的算法，产品团队则用Tensorflow来训练和使用计算模型，并直接提供给在线用户。使用Tensorflow可以让应用型研究者将想法迅速运用到产品中，也可以让学术性研究者更直接地彼此分享代码，从而提高科研产出率。"
   ]
  },
  {
   "cell_type": "markdown",
   "metadata": {},
   "source": [
    "正是这些优势一度让TensorFlow迅速发展。 它目前被大公司使用，如谷歌，OpenAI，NVIDIA，英特尔，SAP，eBay，空中客车，优步，Airbnb，Snap，Dropbox和创业公司等。 截至2018年1月11日，根据GitHub上的stars（星）和repositories（储存库）的数量，TensorFlow是迄今为止最受欢迎的机器学习库，拥有超过85.4k星和25.3k相关的存储库，是 Caffe，PyTorch，Torch和Theano总和的两倍。 据说TensorFlow的崛起是2017年9月停止支持Theano的原因。"
   ]
  },
  {
   "cell_type": "markdown",
   "metadata": {},
   "source": [
    "<img src=\"tensorflow1.png\" style=\"width:600px;height:371px;\">"
   ]
  },
  {
   "cell_type": "markdown",
   "metadata": {},
   "source": [
    "对TensorFlow学习材料的需求也超过了任何其他框架。"
   ]
  },
  {
   "cell_type": "markdown",
   "metadata": {},
   "source": [
    "<img src=\"tensorflow2.jpg\" style=\"width:800px;height:400px;\">"
   ]
  },
  {
   "cell_type": "markdown",
   "metadata": {},
   "source": [
    "总之，我们选择了TensorFlow，因为："
   ]
  },
  {
   "cell_type": "markdown",
   "metadata": {},
   "source": [
    "- Python API\n",
    "- 可移植性：使用单个API将计算部署到桌面，服务器或移动设备中的一个或多个CPU或GPU\n",
    "- 灵活性：从Raspberry Pi，Android，Windows，iOS，Linux到服务器场\n",
    "- 可视化（TensorBoard是炸弹）\n",
    "- 保存和恢复模型，图形\n",
    "- 自动分化autodiff（不再用手拿衍生物。是的）\n",
    "- 大型社区（~300k提交，~85k存储库）\n",
    "- 已经使用TensorFlow的令人敬畏的项目"
   ]
  },
  {
   "cell_type": "markdown",
   "metadata": {},
   "source": [
    "## 一些使用Tensorflow的酷项目"
   ]
  },
  {
   "cell_type": "markdown",
   "metadata": {},
   "source": [
    "- WaveNet：原始音频的生成模型。 https://deepmind.com/blog/wavenet-generative-model-raw-audio/\n",
    "<img src=\"tensorflow3.gif\" style=\"width:500px;height:400px;\">"
   ]
  },
  {
   "cell_type": "markdown",
   "metadata": {},
   "source": [
    "- 皮肤科医生对皮肤癌的深层神经网络分类 。   https://www.nature.com/articles/nature21056\n",
    "<img src=\"tensorflow4.jpg\" style=\"width:500px;height:400px;\">"
   ]
  },
  {
   "cell_type": "markdown",
   "metadata": {},
   "source": [
    "- 使用机器学习画画。https://magenta.tensorflow.org/sketch-rnn-demo\n",
    "<img src=\"tensorflow5.gif\" style=\"width:500px;height:400px;\">"
   ]
  },
  {
   "cell_type": "markdown",
   "metadata": {},
   "source": [
    "## TensorFlow之上的高级API\n",
    "\n",
    "在TensorFlow之上构建了许多高级API。 一些最流行的API包括Keras，TFLearn和Sonnet。 这些高级API能够让你实验效率更高 - 您可以在几行代码中调用复杂的神经网络模型。 API吸引了大量用户。 你肯定并且应该使用这些高级API，如果时间允许，我们可能会在课堂上简要介绍这些高级API。\n",
    "\n",
    "但是，TensorFlow的主要目的不是提供开箱即用的机器学习解决方案。 相反，TensorFlow提供了一系列广泛的功能和类，允许用户从头开始定义模型。 这更复杂，但提供了更大的灵活性。 您可以在TensorFlow中构建几乎任何您能想到的架构。"
   ]
  },
  {
   "cell_type": "markdown",
   "metadata": {},
   "source": [
    "## TensorFlow基础知识"
   ]
  },
  {
   "cell_type": "markdown",
   "metadata": {},
   "source": [
    "我们需要了解的关于TensorFlow的第一件事是它的计算图方法。 任何TensorFlow项目都包含两个步骤：\n",
    "- 步骤1：组装图表（assemble a graph）\n",
    "- 步骤2：使用会话在图中执行操作。（use a session to execute operations in the graph）"
   ]
  },
  {
   "cell_type": "code",
   "execution_count": null,
   "metadata": {},
   "outputs": [],
   "source": []
  }
 ],
 "metadata": {
  "kernelspec": {
   "display_name": "Python 3",
   "language": "python",
   "name": "python3"
  },
  "language_info": {
   "codemirror_mode": {
    "name": "ipython",
    "version": 3
   },
   "file_extension": ".py",
   "mimetype": "text/x-python",
   "name": "python",
   "nbconvert_exporter": "python",
   "pygments_lexer": "ipython3",
   "version": "3.6.5"
  }
 },
 "nbformat": 4,
 "nbformat_minor": 2
}
